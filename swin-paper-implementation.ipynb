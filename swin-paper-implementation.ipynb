{
 "cells": [
  {
   "cell_type": "code",
   "execution_count": 1,
   "id": "7615cbe5",
   "metadata": {
    "execution": {
     "iopub.execute_input": "2025-04-22T01:44:02.515133Z",
     "iopub.status.busy": "2025-04-22T01:44:02.514403Z",
     "iopub.status.idle": "2025-04-22T01:44:06.266191Z",
     "shell.execute_reply": "2025-04-22T01:44:06.265404Z"
    },
    "papermill": {
     "duration": 3.757848,
     "end_time": "2025-04-22T01:44:06.267669",
     "exception": false,
     "start_time": "2025-04-22T01:44:02.509821",
     "status": "completed"
    },
    "tags": []
   },
   "outputs": [],
   "source": [
    "import torch\n",
    "import torch.nn as nn\n",
    "\n",
    "class PatchPartition(nn.Module):\n",
    "    def __init__(self, patch_size=4):\n",
    "        super(PatchPartition, self).__init__()\n",
    "        self.patch_size = patch_size\n",
    "\n",
    "    def forward(self, x):\n",
    "        B, H, W, C = x.shape\n",
    "        x = x.view(B,\n",
    "                   H // self.patch_size, self.patch_size,\n",
    "                   W // self.patch_size, self.patch_size,\n",
    "                   C)\n",
    "        x = x.permute(0, 1, 3, 2, 4, 5).contiguous()  # (B, H//p, W//p, p, p, C)\n",
    "        x = x.view(B, H // self.patch_size * W // self.patch_size, -1)  # (B, H//p, W//p, patch_dim)\n",
    "        return x"
   ]
  },
  {
   "cell_type": "code",
   "execution_count": 2,
   "id": "d17a3525",
   "metadata": {
    "execution": {
     "iopub.execute_input": "2025-04-22T01:44:06.275098Z",
     "iopub.status.busy": "2025-04-22T01:44:06.274570Z",
     "iopub.status.idle": "2025-04-22T01:44:06.319980Z",
     "shell.execute_reply": "2025-04-22T01:44:06.319080Z"
    },
    "papermill": {
     "duration": 0.050264,
     "end_time": "2025-04-22T01:44:06.321189",
     "exception": false,
     "start_time": "2025-04-22T01:44:06.270925",
     "status": "completed"
    },
    "tags": []
   },
   "outputs": [
    {
     "name": "stdout",
     "output_type": "stream",
     "text": [
      "Output shape: torch.Size([2, 3136, 48])\n"
     ]
    }
   ],
   "source": [
    "input_tensor = torch.randn(2, 224, 224, 3)  # (B, H, W, C)\n",
    "patch_partition = PatchPartition(patch_size=4)\n",
    "output = patch_partition(input_tensor)\n",
    "print(\"Output shape:\", output.shape)"
   ]
  },
  {
   "cell_type": "code",
   "execution_count": 3,
   "id": "4bd3128d",
   "metadata": {
    "execution": {
     "iopub.execute_input": "2025-04-22T01:44:06.328120Z",
     "iopub.status.busy": "2025-04-22T01:44:06.327383Z",
     "iopub.status.idle": "2025-04-22T01:44:06.331914Z",
     "shell.execute_reply": "2025-04-22T01:44:06.331394Z"
    },
    "papermill": {
     "duration": 0.008862,
     "end_time": "2025-04-22T01:44:06.332934",
     "exception": false,
     "start_time": "2025-04-22T01:44:06.324072",
     "status": "completed"
    },
    "tags": []
   },
   "outputs": [],
   "source": [
    "class LinearEmbedding(nn.Module):\n",
    "    def __init__(self, input_dim=48, embed_dim=96):\n",
    "        super(LinearEmbedding, self).__init__()\n",
    "        self.proj = nn.Linear(input_dim, embed_dim)\n",
    "\n",
    "    def forward(self, x):\n",
    "        # x shape: (B, H//patch_size, W//patch_size, patch_dim)\n",
    "        B, L , _ = x.shape\n",
    "        x = self.proj(x)  \n",
    "        return x  "
   ]
  },
  {
   "cell_type": "markdown",
   "id": "e97e2453",
   "metadata": {
    "papermill": {
     "duration": 0.002419,
     "end_time": "2025-04-22T01:44:06.338082",
     "exception": false,
     "start_time": "2025-04-22T01:44:06.335663",
     "status": "completed"
    },
    "tags": []
   },
   "source": [
    "Linear embedding uses weight matrix of shape 96 x 48 to project the 48 sized input to 96\n",
    "\n",
    "Y=WX+b"
   ]
  },
  {
   "cell_type": "code",
   "execution_count": 4,
   "id": "1b17d1c2",
   "metadata": {
    "execution": {
     "iopub.execute_input": "2025-04-22T01:44:06.344085Z",
     "iopub.status.busy": "2025-04-22T01:44:06.343856Z",
     "iopub.status.idle": "2025-04-22T01:44:06.375770Z",
     "shell.execute_reply": "2025-04-22T01:44:06.374984Z"
    },
    "papermill": {
     "duration": 0.036279,
     "end_time": "2025-04-22T01:44:06.376903",
     "exception": false,
     "start_time": "2025-04-22T01:44:06.340624",
     "status": "completed"
    },
    "tags": []
   },
   "outputs": [
    {
     "name": "stdout",
     "output_type": "stream",
     "text": [
      "torch.Size([2, 3136, 96])\n"
     ]
    }
   ],
   "source": [
    "linear_embedding = LinearEmbedding(input_dim=48, embed_dim=96)\n",
    "output = linear_embedding(output)\n",
    "print(output.shape)"
   ]
  },
  {
   "cell_type": "code",
   "execution_count": 5,
   "id": "f1a51afe",
   "metadata": {
    "execution": {
     "iopub.execute_input": "2025-04-22T01:44:06.384565Z",
     "iopub.status.busy": "2025-04-22T01:44:06.384313Z",
     "iopub.status.idle": "2025-04-22T01:44:06.388894Z",
     "shell.execute_reply": "2025-04-22T01:44:06.388178Z"
    },
    "papermill": {
     "duration": 0.010125,
     "end_time": "2025-04-22T01:44:06.389968",
     "exception": false,
     "start_time": "2025-04-22T01:44:06.379843",
     "status": "completed"
    },
    "tags": []
   },
   "outputs": [],
   "source": [
    "def window_partition(x, window_size):\n",
    "    B, H, W, C = x.shape\n",
    "    x = x.view(B, H // window_size, window_size,\n",
    "               W // window_size, window_size, C)\n",
    "    windows = x.permute(0, 1, 3, 2, 4, 5)\n",
    "    windows = windows.contiguous().view(-1, window_size , window_size, C)\n",
    "    return windows"
   ]
  },
  {
   "cell_type": "code",
   "execution_count": 6,
   "id": "e11da160",
   "metadata": {
    "execution": {
     "iopub.execute_input": "2025-04-22T01:44:06.395918Z",
     "iopub.status.busy": "2025-04-22T01:44:06.395732Z",
     "iopub.status.idle": "2025-04-22T01:44:06.399904Z",
     "shell.execute_reply": "2025-04-22T01:44:06.399207Z"
    },
    "papermill": {
     "duration": 0.008344,
     "end_time": "2025-04-22T01:44:06.400973",
     "exception": false,
     "start_time": "2025-04-22T01:44:06.392629",
     "status": "completed"
    },
    "tags": []
   },
   "outputs": [],
   "source": [
    "def window_reverse(windows, window_size, H, W):\n",
    "    B = int(windows.shape[0] / (H // window_size * W // window_size))\n",
    "    x = windows.view(B,\n",
    "                     H // window_size,\n",
    "                     W // window_size,\n",
    "                     window_size,\n",
    "                     window_size,\n",
    "                     -1)\n",
    "    x = x.permute(0, 1, 3, 2, 4, 5)\n",
    "    x = x.contiguous().view(B, H, W, -1)\n",
    "    return x"
   ]
  },
  {
   "cell_type": "code",
   "execution_count": 7,
   "id": "a48692f1",
   "metadata": {
    "execution": {
     "iopub.execute_input": "2025-04-22T01:44:06.407305Z",
     "iopub.status.busy": "2025-04-22T01:44:06.406882Z",
     "iopub.status.idle": "2025-04-22T01:44:06.415261Z",
     "shell.execute_reply": "2025-04-22T01:44:06.414774Z"
    },
    "papermill": {
     "duration": 0.012821,
     "end_time": "2025-04-22T01:44:06.416470",
     "exception": false,
     "start_time": "2025-04-22T01:44:06.403649",
     "status": "completed"
    },
    "tags": []
   },
   "outputs": [],
   "source": [
    "class WindowAttention(nn.Module):\n",
    "    def __init__(self, dim, window_size, num_heads):\n",
    "        super().__init__()\n",
    "        self.dim = dim\n",
    "        self.window_size = window_size\n",
    "        self.num_heads = num_heads\n",
    "        head_dim = dim // num_heads\n",
    "        self.scale = head_dim ** -0.5\n",
    "\n",
    "        num_rel = (2 * window_size - 1) ** 2\n",
    "        self.relative_bias = nn.Parameter(torch.zeros(num_rel, num_heads))\n",
    "        coords = torch.stack(torch.meshgrid(\n",
    "            torch.arange(window_size), torch.arange(window_size), indexing='ij'\n",
    "        ))  # 2, Wh, Ww\n",
    "        coords = coords.flatten(1)  # 2, Wh*Ww\n",
    "        rel = coords[:, :, None] - coords[:, None, :]  # 2, N, N\n",
    "        rel = rel.permute(1, 2, 0).contiguous()  # N, N, 2\n",
    "        rel[:, :, 0] += window_size - 1\n",
    "        rel[:, :, 1] += window_size - 1\n",
    "        rel[:, :, 0] *= 2 * window_size - 1\n",
    "        index = rel.sum(-1)\n",
    "        self.register_buffer('relative_index', index)\n",
    "\n",
    "        self.qkv = nn.Linear(dim, dim * 3, bias=True)\n",
    "        self.proj = nn.Linear(dim, dim)\n",
    "        self.softmax = nn.Softmax(dim=-1)\n",
    "\n",
    "    def forward(self, x, mask=None):  # x: (nW*B, N, C)\n",
    "        B_, N, C = x.shape\n",
    "        qkv = self.qkv(x).reshape(B_, N, 3, self.num_heads, C // self.num_heads)\n",
    "        q, k, v = qkv.permute(2, 0, 3, 1, 4)\n",
    "        q = q * self.scale\n",
    "        attn = (q @ k.transpose(-2, -1))  # (B_, heads, N, N)\n",
    "\n",
    "        bias = self.relative_bias[self.relative_index.view(-1)]\n",
    "        bias = bias.view(N, N, -1).permute(2, 0, 1)\n",
    "        attn = attn + bias.unsqueeze(0)\n",
    "\n",
    "        if mask is not None:\n",
    "            nW = mask.shape[0]\n",
    "            attn = attn.view(B_ // nW, nW, self.num_heads, N, N)\n",
    "            attn = attn + mask.unsqueeze(1).unsqueeze(0)\n",
    "            attn = attn.view(-1, self.num_heads, N, N)\n",
    "\n",
    "        attn = self.softmax(attn)\n",
    "        out = (attn @ v).transpose(1, 2).reshape(B_, N, C)\n",
    "        out = self.proj(out)\n",
    "        return out"
   ]
  },
  {
   "cell_type": "code",
   "execution_count": 8,
   "id": "a1a1507c",
   "metadata": {
    "execution": {
     "iopub.execute_input": "2025-04-22T01:44:06.422613Z",
     "iopub.status.busy": "2025-04-22T01:44:06.422424Z",
     "iopub.status.idle": "2025-04-22T01:44:06.426605Z",
     "shell.execute_reply": "2025-04-22T01:44:06.426077Z"
    },
    "papermill": {
     "duration": 0.008242,
     "end_time": "2025-04-22T01:44:06.427662",
     "exception": false,
     "start_time": "2025-04-22T01:44:06.419420",
     "status": "completed"
    },
    "tags": []
   },
   "outputs": [],
   "source": [
    "class Mlp(nn.Module):\n",
    "    def __init__(self, dim, mlp_ratio=4, output_dim=None):\n",
    "        super().__init__()\n",
    "        hidden = int(dim * mlp_ratio)\n",
    "        out_dim = output_dim if output_dim is not None else dim\n",
    "        self.fc1 = nn.Linear(dim, hidden)\n",
    "        self.act = nn.GELU()\n",
    "        self.fc2 = nn.Linear(hidden, out_dim)\n",
    "\n",
    "    def forward(self, x):\n",
    "        return self.fc2(self.act(self.fc1(x)))"
   ]
  },
  {
   "cell_type": "code",
   "execution_count": 9,
   "id": "7cbf79ce",
   "metadata": {
    "execution": {
     "iopub.execute_input": "2025-04-22T01:44:06.434073Z",
     "iopub.status.busy": "2025-04-22T01:44:06.433626Z",
     "iopub.status.idle": "2025-04-22T01:44:06.442727Z",
     "shell.execute_reply": "2025-04-22T01:44:06.442013Z"
    },
    "papermill": {
     "duration": 0.013461,
     "end_time": "2025-04-22T01:44:06.443765",
     "exception": false,
     "start_time": "2025-04-22T01:44:06.430304",
     "status": "completed"
    },
    "tags": []
   },
   "outputs": [],
   "source": [
    "class SwinBlock(nn.Module):\n",
    "    def __init__(self, dim, input_resolution, num_heads,\n",
    "                 window_size=7, shift_size=0, mlp_ratio=4, output_dim=None):\n",
    "        super().__init__()\n",
    "        H, W = input_resolution\n",
    "        assert 0 <= shift_size < window_size, \"shift_size must be in [0, window_size)\"\n",
    "        self.dim = dim\n",
    "        self.H, self.W = H, W\n",
    "        self.window_size = window_size\n",
    "        self.shift_size = shift_size\n",
    "\n",
    "        self.norm1 = nn.LayerNorm(dim)\n",
    "        self.attn = WindowAttention(dim, window_size, num_heads)\n",
    "        self.norm2 = nn.LayerNorm(dim)\n",
    "        self.mlp = Mlp(dim, mlp_ratio, output_dim)\n",
    "\n",
    "        if self.shift_size > 0:\n",
    "            img_mask = torch.zeros((1, H, W, 1))\n",
    "            h_slices = (slice(0, -window_size), slice(-window_size, -shift_size), slice(-shift_size, None))\n",
    "            w_slices = (slice(0, -window_size), slice(-window_size, -shift_size), slice(-shift_size, None))\n",
    "            cnt = 0\n",
    "            for h in h_slices:\n",
    "                for w in w_slices:\n",
    "                    img_mask[:, h, w, :] = cnt\n",
    "                    cnt += 1\n",
    "\n",
    "            mask_windows = window_partition(img_mask, window_size)\n",
    "            mask_windows = mask_windows.view(-1, window_size * window_size)\n",
    "            attn_mask = mask_windows.unsqueeze(1) - mask_windows.unsqueeze(2)\n",
    "            attn_mask = attn_mask.masked_fill(attn_mask != 0, float(-100.0)).masked_fill(attn_mask == 0, float(0.0))\n",
    "        else:\n",
    "            attn_mask = None\n",
    "\n",
    "        self.register_buffer(\"attn_mask\", attn_mask)\n",
    "\n",
    "    def forward(self, x):  # x: (B, H*W, C)\n",
    "        B, L, C = x.shape\n",
    "        shortcut = x\n",
    "        x = self.norm1(x).view(B, self.H, self.W, C)\n",
    "\n",
    "        # cyclic shift\n",
    "        if self.shift_size > 0:\n",
    "            x = torch.roll(x, shifts=(-self.shift_size, -self.shift_size), dims=(1, 2))\n",
    "\n",
    "        # partition windows\n",
    "        x_windows = window_partition(x, self.window_size)  \n",
    "        x_windows = x_windows.view(-1, self.window_size * self.window_size, C) # (nW*B, M*M, C)\n",
    "        # attention\n",
    "        attn_windows = self.attn(x_windows, mask=self.attn_mask)\n",
    "        # merge windows\n",
    "        x = window_reverse(attn_windows, self.window_size, self.H, self.W)\n",
    "\n",
    "        # reverse shift\n",
    "        if self.shift_size > 0:\n",
    "            x = torch.roll(x, shifts=(self.shift_size, self.shift_size), dims=(1, 2))\n",
    "\n",
    "        x = x.view(B, L, C)\n",
    "        # residual + MLP\n",
    "        x = shortcut + x\n",
    "        x = x + self.mlp(self.norm2(x))\n",
    "        return x"
   ]
  },
  {
   "cell_type": "code",
   "execution_count": 10,
   "id": "357c42a5",
   "metadata": {
    "execution": {
     "iopub.execute_input": "2025-04-22T01:44:06.449641Z",
     "iopub.status.busy": "2025-04-22T01:44:06.449437Z",
     "iopub.status.idle": "2025-04-22T01:44:06.454536Z",
     "shell.execute_reply": "2025-04-22T01:44:06.454008Z"
    },
    "papermill": {
     "duration": 0.009252,
     "end_time": "2025-04-22T01:44:06.455573",
     "exception": false,
     "start_time": "2025-04-22T01:44:06.446321",
     "status": "completed"
    },
    "tags": []
   },
   "outputs": [],
   "source": [
    "class PatchMerging(nn.Module):\n",
    "    def __init__(self, input_resolution, dim):\n",
    "        super().__init__()\n",
    "        H, W = input_resolution\n",
    "        self.input_resolution = input_resolution\n",
    "        self.dim = dim\n",
    "        self.reduction = nn.Linear(4 * dim, 2 * dim, bias=False)\n",
    "        self.norm = nn.LayerNorm(4 * dim)\n",
    "\n",
    "    def forward(self, x):  # x: (B, H*W, C)\n",
    "        B, L, C = x.shape\n",
    "        H, W = self.input_resolution\n",
    "        x = x.view(B, H, W, C)\n",
    "\n",
    "        x0 = x[:, 0::2, 0::2, :]\n",
    "        x1 = x[:, 1::2, 0::2, :]\n",
    "        x2 = x[:, 0::2, 1::2, :]\n",
    "        x3 = x[:, 1::2, 1::2, :]\n",
    "        x = torch.cat([x0, x1, x2, x3], -1)  # (B, H/2, W/2, 4*C)\n",
    "        x = x.view(B, -1, 4 * C)\n",
    "        x = self.norm(x)\n",
    "        x = self.reduction(x)\n",
    "        return x"
   ]
  },
  {
   "cell_type": "code",
   "execution_count": 11,
   "id": "ec7e564f",
   "metadata": {
    "execution": {
     "iopub.execute_input": "2025-04-22T01:44:06.461433Z",
     "iopub.status.busy": "2025-04-22T01:44:06.461196Z",
     "iopub.status.idle": "2025-04-22T01:44:06.467890Z",
     "shell.execute_reply": "2025-04-22T01:44:06.467408Z"
    },
    "papermill": {
     "duration": 0.010726,
     "end_time": "2025-04-22T01:44:06.468886",
     "exception": false,
     "start_time": "2025-04-22T01:44:06.458160",
     "status": "completed"
    },
    "tags": []
   },
   "outputs": [],
   "source": [
    "class SwinTransformer(nn.Module):\n",
    "    def __init__(self, img_size=224, patch_size=4, in_chans=3,\n",
    "                 embed_dim=96, depths=[2,2,6,2], num_heads=[3,6,12,24], window_size=7,\n",
    "                 num_classes=1000):\n",
    "        super().__init__()\n",
    "        self.patch_size = patch_size\n",
    "        self.embed_dim = embed_dim\n",
    "        # 1) Patch partition + embedding\n",
    "        self.partition = PatchPartition(patch_size)\n",
    "        patch_dim = patch_size*patch_size*in_chans\n",
    "        self.embedding = LinearEmbedding(patch_dim, embed_dim)\n",
    "        # compute resolution after patch\n",
    "        H = W = img_size // patch_size\n",
    "        # build stages\n",
    "        self.stages = nn.ModuleList()\n",
    "        dims = [embed_dim, embed_dim*2, embed_dim*4, embed_dim*8]\n",
    "        for i in range(4):\n",
    "            blocks = []\n",
    "            for j in range(depths[i]):\n",
    "                shift = 0 if (j % 2 == 0) else window_size//2\n",
    "                blocks.append(\n",
    "                    SwinBlock(dims[i], (H,W), num_heads[i], window_size, shift)\n",
    "                )\n",
    "            stage = nn.Sequential(*blocks)\n",
    "            self.stages.append(stage)\n",
    "            if i < 3:\n",
    "                # downsample\n",
    "                self.stages.append(PatchMerging((H,W), dims[i]))\n",
    "                H //= 2; W //= 2\n",
    "        # final norm\n",
    "        self.norm = nn.LayerNorm(dims[-1])\n",
    "                # classification head\n",
    "        self.head = nn.Linear(dims[-1], num_classes)\n",
    "\n",
    "    def forward(self, x):  # x: (B, C, H, W)\n",
    "        B,C,H,W = x.shape\n",
    "        x = x.permute(0,2,3,1).contiguous()  # to (B, H, W, C)\n",
    "        x = self.partition(x)              # (B, H/p*W/p, patch_dim)\n",
    "        x = self.embedding(x)              # (B, N, embed_dim)\n",
    "        for layer in self.stages:\n",
    "            x = layer(x)\n",
    "        x = self.norm(x)\n",
    "        x = x.mean(1)  # global average\n",
    "        return self.head(x)  # (B, num_classes)"
   ]
  },
  {
   "cell_type": "code",
   "execution_count": 12,
   "id": "c2b3ca44",
   "metadata": {
    "execution": {
     "iopub.execute_input": "2025-04-22T01:44:06.475147Z",
     "iopub.status.busy": "2025-04-22T01:44:06.474950Z",
     "iopub.status.idle": "2025-04-22T03:26:34.304832Z",
     "shell.execute_reply": "2025-04-22T03:26:34.304238Z"
    },
    "papermill": {
     "duration": 6147.834627,
     "end_time": "2025-04-22T03:26:34.306156",
     "exception": false,
     "start_time": "2025-04-22T01:44:06.471529",
     "status": "completed"
    },
    "tags": []
   },
   "outputs": [
    {
     "name": "stdout",
     "output_type": "stream",
     "text": [
      "['00000', '00001', '00002', '00003', '00004', '00005', '00006', '00007', '00008', '00009']\n"
     ]
    },
    {
     "name": "stderr",
     "output_type": "stream",
     "text": [
      "[Epoch 1] Training: 100%|██████████| 79/79 [01:38<00:00,  1.25s/it]\n"
     ]
    },
    {
     "name": "stdout",
     "output_type": "stream",
     "text": [
      "Epoch 1 Train Loss: 163.3260 | Acc: 0.2174 | P: 0.2160 | R: 0.2174 | F1: 0.2157\n"
     ]
    },
    {
     "name": "stderr",
     "output_type": "stream",
     "text": [
      "[Epoch 1] Validation: 100%|██████████| 8/8 [00:07<00:00,  1.14it/s]\n"
     ]
    },
    {
     "name": "stdout",
     "output_type": "stream",
     "text": [
      "Epoch 1 Val Acc: 0.2580 | P: 0.2096 | R: 0.2580 | F1: 0.1768\n",
      "✅ Best model updated and saved!\n"
     ]
    },
    {
     "name": "stderr",
     "output_type": "stream",
     "text": [
      "[Epoch 2] Training: 100%|██████████| 79/79 [00:57<00:00,  1.38it/s]\n"
     ]
    },
    {
     "name": "stdout",
     "output_type": "stream",
     "text": [
      "Epoch 2 Train Loss: 137.5578 | Acc: 0.3048 | P: 0.2907 | R: 0.3048 | F1: 0.2913\n"
     ]
    },
    {
     "name": "stderr",
     "output_type": "stream",
     "text": [
      "[Epoch 2] Validation: 100%|██████████| 8/8 [00:03<00:00,  2.51it/s]\n"
     ]
    },
    {
     "name": "stdout",
     "output_type": "stream",
     "text": [
      "Epoch 2 Val Acc: 0.3380 | P: 0.3236 | R: 0.3380 | F1: 0.2926\n",
      "✅ Best model updated and saved!\n"
     ]
    },
    {
     "name": "stderr",
     "output_type": "stream",
     "text": [
      "[Epoch 3] Training: 100%|██████████| 79/79 [00:57<00:00,  1.37it/s]\n"
     ]
    },
    {
     "name": "stdout",
     "output_type": "stream",
     "text": [
      "Epoch 3 Train Loss: 124.4849 | Acc: 0.3884 | P: 0.3712 | R: 0.3884 | F1: 0.3746\n"
     ]
    },
    {
     "name": "stderr",
     "output_type": "stream",
     "text": [
      "[Epoch 3] Validation: 100%|██████████| 8/8 [00:03<00:00,  2.49it/s]\n"
     ]
    },
    {
     "name": "stdout",
     "output_type": "stream",
     "text": [
      "Epoch 3 Val Acc: 0.3920 | P: 0.3121 | R: 0.3920 | F1: 0.3199\n",
      "✅ Best model updated and saved!\n"
     ]
    },
    {
     "name": "stderr",
     "output_type": "stream",
     "text": [
      "[Epoch 4] Training: 100%|██████████| 79/79 [00:57<00:00,  1.37it/s]\n"
     ]
    },
    {
     "name": "stdout",
     "output_type": "stream",
     "text": [
      "Epoch 4 Train Loss: 118.4670 | Acc: 0.4242 | P: 0.4084 | R: 0.4242 | F1: 0.4100\n"
     ]
    },
    {
     "name": "stderr",
     "output_type": "stream",
     "text": [
      "[Epoch 4] Validation: 100%|██████████| 8/8 [00:03<00:00,  2.52it/s]\n"
     ]
    },
    {
     "name": "stdout",
     "output_type": "stream",
     "text": [
      "Epoch 4 Val Acc: 0.4440 | P: 0.4453 | R: 0.4440 | F1: 0.4044\n",
      "✅ Best model updated and saved!\n"
     ]
    },
    {
     "name": "stderr",
     "output_type": "stream",
     "text": [
      "[Epoch 5] Training: 100%|██████████| 79/79 [00:56<00:00,  1.40it/s]\n"
     ]
    },
    {
     "name": "stdout",
     "output_type": "stream",
     "text": [
      "Epoch 5 Train Loss: 114.0393 | Acc: 0.4360 | P: 0.4167 | R: 0.4360 | F1: 0.4220\n"
     ]
    },
    {
     "name": "stderr",
     "output_type": "stream",
     "text": [
      "[Epoch 5] Validation: 100%|██████████| 8/8 [00:03<00:00,  2.56it/s]\n"
     ]
    },
    {
     "name": "stdout",
     "output_type": "stream",
     "text": [
      "Epoch 5 Val Acc: 0.4320 | P: 0.4476 | R: 0.4320 | F1: 0.4042\n"
     ]
    },
    {
     "name": "stderr",
     "output_type": "stream",
     "text": [
      "[Epoch 6] Training: 100%|██████████| 79/79 [00:57<00:00,  1.38it/s]\n"
     ]
    },
    {
     "name": "stdout",
     "output_type": "stream",
     "text": [
      "Epoch 6 Train Loss: 109.3304 | Acc: 0.4614 | P: 0.4493 | R: 0.4614 | F1: 0.4503\n"
     ]
    },
    {
     "name": "stderr",
     "output_type": "stream",
     "text": [
      "[Epoch 6] Validation: 100%|██████████| 8/8 [00:03<00:00,  2.45it/s]\n"
     ]
    },
    {
     "name": "stdout",
     "output_type": "stream",
     "text": [
      "Epoch 6 Val Acc: 0.4680 | P: 0.4741 | R: 0.4680 | F1: 0.4455\n",
      "✅ Best model updated and saved!\n"
     ]
    },
    {
     "name": "stderr",
     "output_type": "stream",
     "text": [
      "[Epoch 7] Training: 100%|██████████| 79/79 [00:57<00:00,  1.37it/s]\n"
     ]
    },
    {
     "name": "stdout",
     "output_type": "stream",
     "text": [
      "Epoch 7 Train Loss: 100.7239 | Acc: 0.5028 | P: 0.4928 | R: 0.5028 | F1: 0.4949\n"
     ]
    },
    {
     "name": "stderr",
     "output_type": "stream",
     "text": [
      "[Epoch 7] Validation: 100%|██████████| 8/8 [00:03<00:00,  2.36it/s]\n"
     ]
    },
    {
     "name": "stdout",
     "output_type": "stream",
     "text": [
      "Epoch 7 Val Acc: 0.4660 | P: 0.4619 | R: 0.4660 | F1: 0.4393\n"
     ]
    },
    {
     "name": "stderr",
     "output_type": "stream",
     "text": [
      "[Epoch 8] Training: 100%|██████████| 79/79 [00:57<00:00,  1.38it/s]\n"
     ]
    },
    {
     "name": "stdout",
     "output_type": "stream",
     "text": [
      "Epoch 8 Train Loss: 97.6356 | Acc: 0.5234 | P: 0.5143 | R: 0.5234 | F1: 0.5176\n"
     ]
    },
    {
     "name": "stderr",
     "output_type": "stream",
     "text": [
      "[Epoch 8] Validation: 100%|██████████| 8/8 [00:03<00:00,  2.36it/s]\n"
     ]
    },
    {
     "name": "stdout",
     "output_type": "stream",
     "text": [
      "Epoch 8 Val Acc: 0.4480 | P: 0.5028 | R: 0.4480 | F1: 0.4358\n"
     ]
    },
    {
     "name": "stderr",
     "output_type": "stream",
     "text": [
      "[Epoch 9] Training: 100%|██████████| 79/79 [00:56<00:00,  1.39it/s]\n"
     ]
    },
    {
     "name": "stdout",
     "output_type": "stream",
     "text": [
      "Epoch 9 Train Loss: 94.8223 | Acc: 0.5352 | P: 0.5268 | R: 0.5352 | F1: 0.5299\n"
     ]
    },
    {
     "name": "stderr",
     "output_type": "stream",
     "text": [
      "[Epoch 9] Validation: 100%|██████████| 8/8 [00:03<00:00,  2.48it/s]\n"
     ]
    },
    {
     "name": "stdout",
     "output_type": "stream",
     "text": [
      "Epoch 9 Val Acc: 0.5340 | P: 0.5568 | R: 0.5340 | F1: 0.5172\n",
      "✅ Best model updated and saved!\n"
     ]
    },
    {
     "name": "stderr",
     "output_type": "stream",
     "text": [
      "[Epoch 10] Training: 100%|██████████| 79/79 [00:56<00:00,  1.39it/s]\n"
     ]
    },
    {
     "name": "stdout",
     "output_type": "stream",
     "text": [
      "Epoch 10 Train Loss: 89.4147 | Acc: 0.5706 | P: 0.5653 | R: 0.5706 | F1: 0.5665\n"
     ]
    },
    {
     "name": "stderr",
     "output_type": "stream",
     "text": [
      "[Epoch 10] Validation: 100%|██████████| 8/8 [00:03<00:00,  2.55it/s]\n"
     ]
    },
    {
     "name": "stdout",
     "output_type": "stream",
     "text": [
      "Epoch 10 Val Acc: 0.5220 | P: 0.5549 | R: 0.5220 | F1: 0.5147\n"
     ]
    },
    {
     "name": "stderr",
     "output_type": "stream",
     "text": [
      "[Epoch 11] Training: 100%|██████████| 79/79 [00:56<00:00,  1.39it/s]\n"
     ]
    },
    {
     "name": "stdout",
     "output_type": "stream",
     "text": [
      "Epoch 11 Train Loss: 87.3900 | Acc: 0.5740 | P: 0.5668 | R: 0.5740 | F1: 0.5691\n"
     ]
    },
    {
     "name": "stderr",
     "output_type": "stream",
     "text": [
      "[Epoch 11] Validation: 100%|██████████| 8/8 [00:03<00:00,  2.56it/s]\n"
     ]
    },
    {
     "name": "stdout",
     "output_type": "stream",
     "text": [
      "Epoch 11 Val Acc: 0.5360 | P: 0.5821 | R: 0.5360 | F1: 0.5442\n",
      "✅ Best model updated and saved!\n"
     ]
    },
    {
     "name": "stderr",
     "output_type": "stream",
     "text": [
      "[Epoch 12] Training: 100%|██████████| 79/79 [00:57<00:00,  1.37it/s]\n"
     ]
    },
    {
     "name": "stdout",
     "output_type": "stream",
     "text": [
      "Epoch 12 Train Loss: 81.3110 | Acc: 0.6094 | P: 0.6055 | R: 0.6094 | F1: 0.6068\n"
     ]
    },
    {
     "name": "stderr",
     "output_type": "stream",
     "text": [
      "[Epoch 12] Validation: 100%|██████████| 8/8 [00:03<00:00,  2.56it/s]\n"
     ]
    },
    {
     "name": "stdout",
     "output_type": "stream",
     "text": [
      "Epoch 12 Val Acc: 0.5440 | P: 0.5674 | R: 0.5440 | F1: 0.5251\n"
     ]
    },
    {
     "name": "stderr",
     "output_type": "stream",
     "text": [
      "[Epoch 13] Training: 100%|██████████| 79/79 [00:56<00:00,  1.39it/s]\n"
     ]
    },
    {
     "name": "stdout",
     "output_type": "stream",
     "text": [
      "Epoch 13 Train Loss: 83.2550 | Acc: 0.5952 | P: 0.5870 | R: 0.5952 | F1: 0.5898\n"
     ]
    },
    {
     "name": "stderr",
     "output_type": "stream",
     "text": [
      "[Epoch 13] Validation: 100%|██████████| 8/8 [00:03<00:00,  2.61it/s]\n"
     ]
    },
    {
     "name": "stdout",
     "output_type": "stream",
     "text": [
      "Epoch 13 Val Acc: 0.5440 | P: 0.5741 | R: 0.5440 | F1: 0.5032\n"
     ]
    },
    {
     "name": "stderr",
     "output_type": "stream",
     "text": [
      "[Epoch 14] Training: 100%|██████████| 79/79 [00:57<00:00,  1.37it/s]\n"
     ]
    },
    {
     "name": "stdout",
     "output_type": "stream",
     "text": [
      "Epoch 14 Train Loss: 75.8592 | Acc: 0.6272 | P: 0.6213 | R: 0.6272 | F1: 0.6230\n"
     ]
    },
    {
     "name": "stderr",
     "output_type": "stream",
     "text": [
      "[Epoch 14] Validation: 100%|██████████| 8/8 [00:03<00:00,  2.50it/s]\n"
     ]
    },
    {
     "name": "stdout",
     "output_type": "stream",
     "text": [
      "Epoch 14 Val Acc: 0.5640 | P: 0.5693 | R: 0.5640 | F1: 0.5608\n",
      "✅ Best model updated and saved!\n"
     ]
    },
    {
     "name": "stderr",
     "output_type": "stream",
     "text": [
      "[Epoch 15] Training: 100%|██████████| 79/79 [00:56<00:00,  1.39it/s]\n"
     ]
    },
    {
     "name": "stdout",
     "output_type": "stream",
     "text": [
      "Epoch 15 Train Loss: 70.5716 | Acc: 0.6522 | P: 0.6472 | R: 0.6522 | F1: 0.6489\n"
     ]
    },
    {
     "name": "stderr",
     "output_type": "stream",
     "text": [
      "[Epoch 15] Validation: 100%|██████████| 8/8 [00:03<00:00,  2.54it/s]\n"
     ]
    },
    {
     "name": "stdout",
     "output_type": "stream",
     "text": [
      "Epoch 15 Val Acc: 0.5640 | P: 0.5728 | R: 0.5640 | F1: 0.5529\n"
     ]
    },
    {
     "name": "stderr",
     "output_type": "stream",
     "text": [
      "[Epoch 16] Training: 100%|██████████| 79/79 [00:58<00:00,  1.35it/s]\n"
     ]
    },
    {
     "name": "stdout",
     "output_type": "stream",
     "text": [
      "Epoch 16 Train Loss: 68.3111 | Acc: 0.6640 | P: 0.6595 | R: 0.6640 | F1: 0.6612\n"
     ]
    },
    {
     "name": "stderr",
     "output_type": "stream",
     "text": [
      "[Epoch 16] Validation: 100%|██████████| 8/8 [00:03<00:00,  2.46it/s]\n"
     ]
    },
    {
     "name": "stdout",
     "output_type": "stream",
     "text": [
      "Epoch 16 Val Acc: 0.5700 | P: 0.5881 | R: 0.5700 | F1: 0.5576\n"
     ]
    },
    {
     "name": "stderr",
     "output_type": "stream",
     "text": [
      "[Epoch 17] Training: 100%|██████████| 79/79 [00:57<00:00,  1.39it/s]\n"
     ]
    },
    {
     "name": "stdout",
     "output_type": "stream",
     "text": [
      "Epoch 17 Train Loss: 65.2641 | Acc: 0.6786 | P: 0.6736 | R: 0.6786 | F1: 0.6754\n"
     ]
    },
    {
     "name": "stderr",
     "output_type": "stream",
     "text": [
      "[Epoch 17] Validation: 100%|██████████| 8/8 [00:03<00:00,  2.52it/s]\n"
     ]
    },
    {
     "name": "stdout",
     "output_type": "stream",
     "text": [
      "Epoch 17 Val Acc: 0.5660 | P: 0.5833 | R: 0.5660 | F1: 0.5586\n"
     ]
    },
    {
     "name": "stderr",
     "output_type": "stream",
     "text": [
      "[Epoch 18] Training: 100%|██████████| 79/79 [00:57<00:00,  1.38it/s]\n"
     ]
    },
    {
     "name": "stdout",
     "output_type": "stream",
     "text": [
      "Epoch 18 Train Loss: 60.5850 | Acc: 0.7018 | P: 0.6987 | R: 0.7018 | F1: 0.7000\n"
     ]
    },
    {
     "name": "stderr",
     "output_type": "stream",
     "text": [
      "[Epoch 18] Validation: 100%|██████████| 8/8 [00:03<00:00,  2.46it/s]\n"
     ]
    },
    {
     "name": "stdout",
     "output_type": "stream",
     "text": [
      "Epoch 18 Val Acc: 0.5500 | P: 0.5571 | R: 0.5500 | F1: 0.5237\n"
     ]
    },
    {
     "name": "stderr",
     "output_type": "stream",
     "text": [
      "[Epoch 19] Training: 100%|██████████| 79/79 [00:57<00:00,  1.38it/s]\n"
     ]
    },
    {
     "name": "stdout",
     "output_type": "stream",
     "text": [
      "Epoch 19 Train Loss: 56.5214 | Acc: 0.7256 | P: 0.7233 | R: 0.7256 | F1: 0.7241\n"
     ]
    },
    {
     "name": "stderr",
     "output_type": "stream",
     "text": [
      "[Epoch 19] Validation: 100%|██████████| 8/8 [00:03<00:00,  2.52it/s]\n"
     ]
    },
    {
     "name": "stdout",
     "output_type": "stream",
     "text": [
      "Epoch 19 Val Acc: 0.5920 | P: 0.5873 | R: 0.5920 | F1: 0.5788\n",
      "✅ Best model updated and saved!\n"
     ]
    },
    {
     "name": "stderr",
     "output_type": "stream",
     "text": [
      "[Epoch 20] Training: 100%|██████████| 79/79 [00:57<00:00,  1.36it/s]\n"
     ]
    },
    {
     "name": "stdout",
     "output_type": "stream",
     "text": [
      "Epoch 20 Train Loss: 55.2107 | Acc: 0.7350 | P: 0.7322 | R: 0.7350 | F1: 0.7331\n"
     ]
    },
    {
     "name": "stderr",
     "output_type": "stream",
     "text": [
      "[Epoch 20] Validation: 100%|██████████| 8/8 [00:03<00:00,  2.45it/s]\n"
     ]
    },
    {
     "name": "stdout",
     "output_type": "stream",
     "text": [
      "Epoch 20 Val Acc: 0.5780 | P: 0.6038 | R: 0.5780 | F1: 0.5748\n"
     ]
    },
    {
     "name": "stderr",
     "output_type": "stream",
     "text": [
      "[Epoch 21] Training: 100%|██████████| 79/79 [00:57<00:00,  1.38it/s]\n"
     ]
    },
    {
     "name": "stdout",
     "output_type": "stream",
     "text": [
      "Epoch 21 Train Loss: 56.4294 | Acc: 0.7230 | P: 0.7214 | R: 0.7230 | F1: 0.7219\n"
     ]
    },
    {
     "name": "stderr",
     "output_type": "stream",
     "text": [
      "[Epoch 21] Validation: 100%|██████████| 8/8 [00:03<00:00,  2.36it/s]\n"
     ]
    },
    {
     "name": "stdout",
     "output_type": "stream",
     "text": [
      "Epoch 21 Val Acc: 0.5920 | P: 0.6001 | R: 0.5920 | F1: 0.5848\n",
      "✅ Best model updated and saved!\n"
     ]
    },
    {
     "name": "stderr",
     "output_type": "stream",
     "text": [
      "[Epoch 22] Training: 100%|██████████| 79/79 [00:57<00:00,  1.37it/s]\n"
     ]
    },
    {
     "name": "stdout",
     "output_type": "stream",
     "text": [
      "Epoch 22 Train Loss: 40.8631 | Acc: 0.8090 | P: 0.8081 | R: 0.8090 | F1: 0.8083\n"
     ]
    },
    {
     "name": "stderr",
     "output_type": "stream",
     "text": [
      "[Epoch 22] Validation: 100%|██████████| 8/8 [00:03<00:00,  2.44it/s]\n"
     ]
    },
    {
     "name": "stdout",
     "output_type": "stream",
     "text": [
      "Epoch 22 Val Acc: 0.5660 | P: 0.5882 | R: 0.5660 | F1: 0.5495\n"
     ]
    },
    {
     "name": "stderr",
     "output_type": "stream",
     "text": [
      "[Epoch 23] Training: 100%|██████████| 79/79 [00:57<00:00,  1.36it/s]\n"
     ]
    },
    {
     "name": "stdout",
     "output_type": "stream",
     "text": [
      "Epoch 23 Train Loss: 37.6114 | Acc: 0.8166 | P: 0.8167 | R: 0.8166 | F1: 0.8164\n"
     ]
    },
    {
     "name": "stderr",
     "output_type": "stream",
     "text": [
      "[Epoch 23] Validation: 100%|██████████| 8/8 [00:03<00:00,  2.45it/s]\n"
     ]
    },
    {
     "name": "stdout",
     "output_type": "stream",
     "text": [
      "Epoch 23 Val Acc: 0.5460 | P: 0.5750 | R: 0.5460 | F1: 0.5389\n"
     ]
    },
    {
     "name": "stderr",
     "output_type": "stream",
     "text": [
      "[Epoch 24] Training: 100%|██████████| 79/79 [00:58<00:00,  1.36it/s]\n"
     ]
    },
    {
     "name": "stdout",
     "output_type": "stream",
     "text": [
      "Epoch 24 Train Loss: 35.4329 | Acc: 0.8238 | P: 0.8237 | R: 0.8238 | F1: 0.8235\n"
     ]
    },
    {
     "name": "stderr",
     "output_type": "stream",
     "text": [
      "[Epoch 24] Validation: 100%|██████████| 8/8 [00:03<00:00,  2.38it/s]\n"
     ]
    },
    {
     "name": "stdout",
     "output_type": "stream",
     "text": [
      "Epoch 24 Val Acc: 0.5380 | P: 0.5632 | R: 0.5380 | F1: 0.5239\n"
     ]
    },
    {
     "name": "stderr",
     "output_type": "stream",
     "text": [
      "[Epoch 25] Training: 100%|██████████| 79/79 [00:58<00:00,  1.36it/s]\n"
     ]
    },
    {
     "name": "stdout",
     "output_type": "stream",
     "text": [
      "Epoch 25 Train Loss: 30.7803 | Acc: 0.8564 | P: 0.8571 | R: 0.8564 | F1: 0.8566\n"
     ]
    },
    {
     "name": "stderr",
     "output_type": "stream",
     "text": [
      "[Epoch 25] Validation: 100%|██████████| 8/8 [00:03<00:00,  2.25it/s]\n"
     ]
    },
    {
     "name": "stdout",
     "output_type": "stream",
     "text": [
      "Epoch 25 Val Acc: 0.5600 | P: 0.5706 | R: 0.5600 | F1: 0.5564\n"
     ]
    },
    {
     "name": "stderr",
     "output_type": "stream",
     "text": [
      "[Epoch 26] Training: 100%|██████████| 79/79 [00:57<00:00,  1.37it/s]\n"
     ]
    },
    {
     "name": "stdout",
     "output_type": "stream",
     "text": [
      "Epoch 26 Train Loss: 22.1067 | Acc: 0.8968 | P: 0.8971 | R: 0.8968 | F1: 0.8969\n"
     ]
    },
    {
     "name": "stderr",
     "output_type": "stream",
     "text": [
      "[Epoch 26] Validation: 100%|██████████| 8/8 [00:03<00:00,  2.48it/s]\n"
     ]
    },
    {
     "name": "stdout",
     "output_type": "stream",
     "text": [
      "Epoch 26 Val Acc: 0.5880 | P: 0.5924 | R: 0.5880 | F1: 0.5861\n",
      "✅ Best model updated and saved!\n"
     ]
    },
    {
     "name": "stderr",
     "output_type": "stream",
     "text": [
      "[Epoch 27] Training: 100%|██████████| 79/79 [00:57<00:00,  1.37it/s]\n"
     ]
    },
    {
     "name": "stdout",
     "output_type": "stream",
     "text": [
      "Epoch 27 Train Loss: 22.0389 | Acc: 0.8948 | P: 0.8948 | R: 0.8948 | F1: 0.8948\n"
     ]
    },
    {
     "name": "stderr",
     "output_type": "stream",
     "text": [
      "[Epoch 27] Validation: 100%|██████████| 8/8 [00:03<00:00,  2.43it/s]\n"
     ]
    },
    {
     "name": "stdout",
     "output_type": "stream",
     "text": [
      "Epoch 27 Val Acc: 0.5640 | P: 0.5725 | R: 0.5640 | F1: 0.5646\n"
     ]
    },
    {
     "name": "stderr",
     "output_type": "stream",
     "text": [
      "[Epoch 28] Training: 100%|██████████| 79/79 [00:57<00:00,  1.37it/s]\n"
     ]
    },
    {
     "name": "stdout",
     "output_type": "stream",
     "text": [
      "Epoch 28 Train Loss: 20.3558 | Acc: 0.9040 | P: 0.9043 | R: 0.9040 | F1: 0.9041\n"
     ]
    },
    {
     "name": "stderr",
     "output_type": "stream",
     "text": [
      "[Epoch 28] Validation: 100%|██████████| 8/8 [00:03<00:00,  2.42it/s]\n"
     ]
    },
    {
     "name": "stdout",
     "output_type": "stream",
     "text": [
      "Epoch 28 Val Acc: 0.5600 | P: 0.5568 | R: 0.5600 | F1: 0.5495\n"
     ]
    },
    {
     "name": "stderr",
     "output_type": "stream",
     "text": [
      "[Epoch 29] Training: 100%|██████████| 79/79 [00:56<00:00,  1.39it/s]\n"
     ]
    },
    {
     "name": "stdout",
     "output_type": "stream",
     "text": [
      "Epoch 29 Train Loss: 23.5412 | Acc: 0.8962 | P: 0.8966 | R: 0.8962 | F1: 0.8963\n"
     ]
    },
    {
     "name": "stderr",
     "output_type": "stream",
     "text": [
      "[Epoch 29] Validation: 100%|██████████| 8/8 [00:03<00:00,  2.53it/s]\n"
     ]
    },
    {
     "name": "stdout",
     "output_type": "stream",
     "text": [
      "Epoch 29 Val Acc: 0.5740 | P: 0.5722 | R: 0.5740 | F1: 0.5651\n"
     ]
    },
    {
     "name": "stderr",
     "output_type": "stream",
     "text": [
      "[Epoch 30] Training: 100%|██████████| 79/79 [00:57<00:00,  1.38it/s]\n"
     ]
    },
    {
     "name": "stdout",
     "output_type": "stream",
     "text": [
      "Epoch 30 Train Loss: 18.5876 | Acc: 0.9130 | P: 0.9134 | R: 0.9130 | F1: 0.9131\n"
     ]
    },
    {
     "name": "stderr",
     "output_type": "stream",
     "text": [
      "[Epoch 30] Validation: 100%|██████████| 8/8 [00:03<00:00,  2.35it/s]\n"
     ]
    },
    {
     "name": "stdout",
     "output_type": "stream",
     "text": [
      "Epoch 30 Val Acc: 0.5680 | P: 0.5709 | R: 0.5680 | F1: 0.5523\n"
     ]
    },
    {
     "name": "stderr",
     "output_type": "stream",
     "text": [
      "[Epoch 31] Training: 100%|██████████| 79/79 [00:59<00:00,  1.33it/s]\n"
     ]
    },
    {
     "name": "stdout",
     "output_type": "stream",
     "text": [
      "Epoch 31 Train Loss: 13.9029 | Acc: 0.9374 | P: 0.9375 | R: 0.9374 | F1: 0.9374\n"
     ]
    },
    {
     "name": "stderr",
     "output_type": "stream",
     "text": [
      "[Epoch 31] Validation: 100%|██████████| 8/8 [00:03<00:00,  2.39it/s]\n"
     ]
    },
    {
     "name": "stdout",
     "output_type": "stream",
     "text": [
      "Epoch 31 Val Acc: 0.5720 | P: 0.5762 | R: 0.5720 | F1: 0.5657\n"
     ]
    },
    {
     "name": "stderr",
     "output_type": "stream",
     "text": [
      "[Epoch 32] Training: 100%|██████████| 79/79 [00:57<00:00,  1.38it/s]\n"
     ]
    },
    {
     "name": "stdout",
     "output_type": "stream",
     "text": [
      "Epoch 32 Train Loss: 8.7448 | Acc: 0.9618 | P: 0.9619 | R: 0.9618 | F1: 0.9618\n"
     ]
    },
    {
     "name": "stderr",
     "output_type": "stream",
     "text": [
      "[Epoch 32] Validation: 100%|██████████| 8/8 [00:03<00:00,  2.39it/s]\n"
     ]
    },
    {
     "name": "stdout",
     "output_type": "stream",
     "text": [
      "Epoch 32 Val Acc: 0.5820 | P: 0.6003 | R: 0.5820 | F1: 0.5729\n"
     ]
    },
    {
     "name": "stderr",
     "output_type": "stream",
     "text": [
      "[Epoch 33] Training: 100%|██████████| 79/79 [00:58<00:00,  1.35it/s]\n"
     ]
    },
    {
     "name": "stdout",
     "output_type": "stream",
     "text": [
      "Epoch 33 Train Loss: 8.5889 | Acc: 0.9632 | P: 0.9632 | R: 0.9632 | F1: 0.9632\n"
     ]
    },
    {
     "name": "stderr",
     "output_type": "stream",
     "text": [
      "[Epoch 33] Validation: 100%|██████████| 8/8 [00:03<00:00,  2.32it/s]\n"
     ]
    },
    {
     "name": "stdout",
     "output_type": "stream",
     "text": [
      "Epoch 33 Val Acc: 0.6000 | P: 0.6018 | R: 0.6000 | F1: 0.5985\n",
      "✅ Best model updated and saved!\n"
     ]
    },
    {
     "name": "stderr",
     "output_type": "stream",
     "text": [
      "[Epoch 34] Training: 100%|██████████| 79/79 [00:58<00:00,  1.34it/s]\n"
     ]
    },
    {
     "name": "stdout",
     "output_type": "stream",
     "text": [
      "Epoch 34 Train Loss: 9.6601 | Acc: 0.9598 | P: 0.9599 | R: 0.9598 | F1: 0.9598\n"
     ]
    },
    {
     "name": "stderr",
     "output_type": "stream",
     "text": [
      "[Epoch 34] Validation: 100%|██████████| 8/8 [00:03<00:00,  2.43it/s]\n"
     ]
    },
    {
     "name": "stdout",
     "output_type": "stream",
     "text": [
      "Epoch 34 Val Acc: 0.5980 | P: 0.6051 | R: 0.5980 | F1: 0.5861\n"
     ]
    },
    {
     "name": "stderr",
     "output_type": "stream",
     "text": [
      "[Epoch 35] Training: 100%|██████████| 79/79 [00:57<00:00,  1.38it/s]\n"
     ]
    },
    {
     "name": "stdout",
     "output_type": "stream",
     "text": [
      "Epoch 35 Train Loss: 14.6546 | Acc: 0.9362 | P: 0.9364 | R: 0.9362 | F1: 0.9362\n"
     ]
    },
    {
     "name": "stderr",
     "output_type": "stream",
     "text": [
      "[Epoch 35] Validation: 100%|██████████| 8/8 [00:03<00:00,  2.35it/s]\n"
     ]
    },
    {
     "name": "stdout",
     "output_type": "stream",
     "text": [
      "Epoch 35 Val Acc: 0.5580 | P: 0.5741 | R: 0.5580 | F1: 0.5490\n"
     ]
    },
    {
     "name": "stderr",
     "output_type": "stream",
     "text": [
      "[Epoch 36] Training: 100%|██████████| 79/79 [00:57<00:00,  1.38it/s]\n"
     ]
    },
    {
     "name": "stdout",
     "output_type": "stream",
     "text": [
      "Epoch 36 Train Loss: 15.8544 | Acc: 0.9312 | P: 0.9312 | R: 0.9312 | F1: 0.9312\n"
     ]
    },
    {
     "name": "stderr",
     "output_type": "stream",
     "text": [
      "[Epoch 36] Validation: 100%|██████████| 8/8 [00:03<00:00,  2.47it/s]\n"
     ]
    },
    {
     "name": "stdout",
     "output_type": "stream",
     "text": [
      "Epoch 36 Val Acc: 0.5680 | P: 0.5686 | R: 0.5680 | F1: 0.5633\n"
     ]
    },
    {
     "name": "stderr",
     "output_type": "stream",
     "text": [
      "[Epoch 37] Training: 100%|██████████| 79/79 [00:57<00:00,  1.37it/s]\n"
     ]
    },
    {
     "name": "stdout",
     "output_type": "stream",
     "text": [
      "Epoch 37 Train Loss: 9.3245 | Acc: 0.9574 | P: 0.9575 | R: 0.9574 | F1: 0.9574\n"
     ]
    },
    {
     "name": "stderr",
     "output_type": "stream",
     "text": [
      "[Epoch 37] Validation: 100%|██████████| 8/8 [00:03<00:00,  2.40it/s]\n"
     ]
    },
    {
     "name": "stdout",
     "output_type": "stream",
     "text": [
      "Epoch 37 Val Acc: 0.5720 | P: 0.5682 | R: 0.5720 | F1: 0.5590\n"
     ]
    },
    {
     "name": "stderr",
     "output_type": "stream",
     "text": [
      "[Epoch 38] Training: 100%|██████████| 79/79 [00:57<00:00,  1.36it/s]\n"
     ]
    },
    {
     "name": "stdout",
     "output_type": "stream",
     "text": [
      "Epoch 38 Train Loss: 5.8904 | Acc: 0.9754 | P: 0.9754 | R: 0.9754 | F1: 0.9754\n"
     ]
    },
    {
     "name": "stderr",
     "output_type": "stream",
     "text": [
      "[Epoch 38] Validation: 100%|██████████| 8/8 [00:03<00:00,  2.41it/s]\n"
     ]
    },
    {
     "name": "stdout",
     "output_type": "stream",
     "text": [
      "Epoch 38 Val Acc: 0.5940 | P: 0.5903 | R: 0.5940 | F1: 0.5878\n"
     ]
    },
    {
     "name": "stderr",
     "output_type": "stream",
     "text": [
      "[Epoch 39] Training: 100%|██████████| 79/79 [00:57<00:00,  1.37it/s]\n"
     ]
    },
    {
     "name": "stdout",
     "output_type": "stream",
     "text": [
      "Epoch 39 Train Loss: 5.0117 | Acc: 0.9814 | P: 0.9814 | R: 0.9814 | F1: 0.9814\n"
     ]
    },
    {
     "name": "stderr",
     "output_type": "stream",
     "text": [
      "[Epoch 39] Validation: 100%|██████████| 8/8 [00:03<00:00,  2.38it/s]\n"
     ]
    },
    {
     "name": "stdout",
     "output_type": "stream",
     "text": [
      "Epoch 39 Val Acc: 0.5680 | P: 0.5905 | R: 0.5680 | F1: 0.5741\n"
     ]
    },
    {
     "name": "stderr",
     "output_type": "stream",
     "text": [
      "[Epoch 40] Training: 100%|██████████| 79/79 [00:57<00:00,  1.37it/s]\n"
     ]
    },
    {
     "name": "stdout",
     "output_type": "stream",
     "text": [
      "Epoch 40 Train Loss: 11.0843 | Acc: 0.9518 | P: 0.9518 | R: 0.9518 | F1: 0.9518\n"
     ]
    },
    {
     "name": "stderr",
     "output_type": "stream",
     "text": [
      "[Epoch 40] Validation: 100%|██████████| 8/8 [00:03<00:00,  2.35it/s]\n"
     ]
    },
    {
     "name": "stdout",
     "output_type": "stream",
     "text": [
      "Epoch 40 Val Acc: 0.5340 | P: 0.5696 | R: 0.5340 | F1: 0.5361\n"
     ]
    },
    {
     "name": "stderr",
     "output_type": "stream",
     "text": [
      "[Epoch 41] Training: 100%|██████████| 79/79 [00:57<00:00,  1.38it/s]\n"
     ]
    },
    {
     "name": "stdout",
     "output_type": "stream",
     "text": [
      "Epoch 41 Train Loss: 23.0309 | Acc: 0.9060 | P: 0.9059 | R: 0.9060 | F1: 0.9059\n"
     ]
    },
    {
     "name": "stderr",
     "output_type": "stream",
     "text": [
      "[Epoch 41] Validation: 100%|██████████| 8/8 [00:03<00:00,  2.44it/s]\n"
     ]
    },
    {
     "name": "stdout",
     "output_type": "stream",
     "text": [
      "Epoch 41 Val Acc: 0.5460 | P: 0.5549 | R: 0.5460 | F1: 0.5401\n"
     ]
    },
    {
     "name": "stderr",
     "output_type": "stream",
     "text": [
      "[Epoch 42] Training: 100%|██████████| 79/79 [00:57<00:00,  1.38it/s]\n"
     ]
    },
    {
     "name": "stdout",
     "output_type": "stream",
     "text": [
      "Epoch 42 Train Loss: 11.3789 | Acc: 0.9506 | P: 0.9506 | R: 0.9506 | F1: 0.9505\n"
     ]
    },
    {
     "name": "stderr",
     "output_type": "stream",
     "text": [
      "[Epoch 42] Validation: 100%|██████████| 8/8 [00:03<00:00,  2.47it/s]\n"
     ]
    },
    {
     "name": "stdout",
     "output_type": "stream",
     "text": [
      "Epoch 42 Val Acc: 0.5940 | P: 0.6341 | R: 0.5940 | F1: 0.5992\n",
      "✅ Best model updated and saved!\n"
     ]
    },
    {
     "name": "stderr",
     "output_type": "stream",
     "text": [
      "[Epoch 43] Training: 100%|██████████| 79/79 [00:56<00:00,  1.39it/s]\n"
     ]
    },
    {
     "name": "stdout",
     "output_type": "stream",
     "text": [
      "Epoch 43 Train Loss: 4.2965 | Acc: 0.9828 | P: 0.9828 | R: 0.9828 | F1: 0.9828\n"
     ]
    },
    {
     "name": "stderr",
     "output_type": "stream",
     "text": [
      "[Epoch 43] Validation: 100%|██████████| 8/8 [00:03<00:00,  2.54it/s]\n"
     ]
    },
    {
     "name": "stdout",
     "output_type": "stream",
     "text": [
      "Epoch 43 Val Acc: 0.6000 | P: 0.6166 | R: 0.6000 | F1: 0.6020\n",
      "✅ Best model updated and saved!\n"
     ]
    },
    {
     "name": "stderr",
     "output_type": "stream",
     "text": [
      "[Epoch 44] Training: 100%|██████████| 79/79 [00:57<00:00,  1.37it/s]\n"
     ]
    },
    {
     "name": "stdout",
     "output_type": "stream",
     "text": [
      "Epoch 44 Train Loss: 2.0389 | Acc: 0.9930 | P: 0.9930 | R: 0.9930 | F1: 0.9930\n"
     ]
    },
    {
     "name": "stderr",
     "output_type": "stream",
     "text": [
      "[Epoch 44] Validation: 100%|██████████| 8/8 [00:03<00:00,  2.50it/s]\n"
     ]
    },
    {
     "name": "stdout",
     "output_type": "stream",
     "text": [
      "Epoch 44 Val Acc: 0.5860 | P: 0.5883 | R: 0.5860 | F1: 0.5841\n"
     ]
    },
    {
     "name": "stderr",
     "output_type": "stream",
     "text": [
      "[Epoch 45] Training: 100%|██████████| 79/79 [00:57<00:00,  1.37it/s]\n"
     ]
    },
    {
     "name": "stdout",
     "output_type": "stream",
     "text": [
      "Epoch 45 Train Loss: 2.1856 | Acc: 0.9926 | P: 0.9926 | R: 0.9926 | F1: 0.9926\n"
     ]
    },
    {
     "name": "stderr",
     "output_type": "stream",
     "text": [
      "[Epoch 45] Validation: 100%|██████████| 8/8 [00:03<00:00,  2.48it/s]\n"
     ]
    },
    {
     "name": "stdout",
     "output_type": "stream",
     "text": [
      "Epoch 45 Val Acc: 0.6040 | P: 0.5965 | R: 0.6040 | F1: 0.5972\n"
     ]
    },
    {
     "name": "stderr",
     "output_type": "stream",
     "text": [
      "[Epoch 46] Training: 100%|██████████| 79/79 [00:56<00:00,  1.39it/s]\n"
     ]
    },
    {
     "name": "stdout",
     "output_type": "stream",
     "text": [
      "Epoch 46 Train Loss: 2.0714 | Acc: 0.9928 | P: 0.9928 | R: 0.9928 | F1: 0.9928\n"
     ]
    },
    {
     "name": "stderr",
     "output_type": "stream",
     "text": [
      "[Epoch 46] Validation: 100%|██████████| 8/8 [00:03<00:00,  2.43it/s]\n"
     ]
    },
    {
     "name": "stdout",
     "output_type": "stream",
     "text": [
      "Epoch 46 Val Acc: 0.6100 | P: 0.6194 | R: 0.6100 | F1: 0.6099\n",
      "✅ Best model updated and saved!\n"
     ]
    },
    {
     "name": "stderr",
     "output_type": "stream",
     "text": [
      "[Epoch 47] Training: 100%|██████████| 79/79 [00:58<00:00,  1.35it/s]\n"
     ]
    },
    {
     "name": "stdout",
     "output_type": "stream",
     "text": [
      "Epoch 47 Train Loss: 1.3222 | Acc: 0.9948 | P: 0.9948 | R: 0.9948 | F1: 0.9948\n"
     ]
    },
    {
     "name": "stderr",
     "output_type": "stream",
     "text": [
      "[Epoch 47] Validation: 100%|██████████| 8/8 [00:03<00:00,  2.55it/s]\n"
     ]
    },
    {
     "name": "stdout",
     "output_type": "stream",
     "text": [
      "Epoch 47 Val Acc: 0.6100 | P: 0.6059 | R: 0.6100 | F1: 0.6063\n"
     ]
    },
    {
     "name": "stderr",
     "output_type": "stream",
     "text": [
      "[Epoch 48] Training: 100%|██████████| 79/79 [00:57<00:00,  1.37it/s]\n"
     ]
    },
    {
     "name": "stdout",
     "output_type": "stream",
     "text": [
      "Epoch 48 Train Loss: 1.3366 | Acc: 0.9956 | P: 0.9956 | R: 0.9956 | F1: 0.9956\n"
     ]
    },
    {
     "name": "stderr",
     "output_type": "stream",
     "text": [
      "[Epoch 48] Validation: 100%|██████████| 8/8 [00:03<00:00,  2.52it/s]\n"
     ]
    },
    {
     "name": "stdout",
     "output_type": "stream",
     "text": [
      "Epoch 48 Val Acc: 0.6040 | P: 0.5973 | R: 0.6040 | F1: 0.5981\n"
     ]
    },
    {
     "name": "stderr",
     "output_type": "stream",
     "text": [
      "[Epoch 49] Training: 100%|██████████| 79/79 [00:57<00:00,  1.36it/s]\n"
     ]
    },
    {
     "name": "stdout",
     "output_type": "stream",
     "text": [
      "Epoch 49 Train Loss: 0.7609 | Acc: 0.9974 | P: 0.9974 | R: 0.9974 | F1: 0.9974\n"
     ]
    },
    {
     "name": "stderr",
     "output_type": "stream",
     "text": [
      "[Epoch 49] Validation: 100%|██████████| 8/8 [00:03<00:00,  2.52it/s]\n"
     ]
    },
    {
     "name": "stdout",
     "output_type": "stream",
     "text": [
      "Epoch 49 Val Acc: 0.6020 | P: 0.6018 | R: 0.6020 | F1: 0.5989\n"
     ]
    },
    {
     "name": "stderr",
     "output_type": "stream",
     "text": [
      "[Epoch 50] Training: 100%|██████████| 79/79 [00:57<00:00,  1.38it/s]\n"
     ]
    },
    {
     "name": "stdout",
     "output_type": "stream",
     "text": [
      "Epoch 50 Train Loss: 0.6918 | Acc: 0.9980 | P: 0.9980 | R: 0.9980 | F1: 0.9980\n"
     ]
    },
    {
     "name": "stderr",
     "output_type": "stream",
     "text": [
      "[Epoch 50] Validation: 100%|██████████| 8/8 [00:03<00:00,  2.49it/s]\n"
     ]
    },
    {
     "name": "stdout",
     "output_type": "stream",
     "text": [
      "Epoch 50 Val Acc: 0.6080 | P: 0.6023 | R: 0.6080 | F1: 0.5998\n"
     ]
    },
    {
     "name": "stderr",
     "output_type": "stream",
     "text": [
      "[Epoch 51] Training: 100%|██████████| 79/79 [00:57<00:00,  1.39it/s]\n"
     ]
    },
    {
     "name": "stdout",
     "output_type": "stream",
     "text": [
      "Epoch 51 Train Loss: 0.7070 | Acc: 0.9970 | P: 0.9970 | R: 0.9970 | F1: 0.9970\n"
     ]
    },
    {
     "name": "stderr",
     "output_type": "stream",
     "text": [
      "[Epoch 51] Validation: 100%|██████████| 8/8 [00:03<00:00,  2.50it/s]\n"
     ]
    },
    {
     "name": "stdout",
     "output_type": "stream",
     "text": [
      "Epoch 51 Val Acc: 0.5760 | P: 0.5694 | R: 0.5760 | F1: 0.5686\n"
     ]
    },
    {
     "name": "stderr",
     "output_type": "stream",
     "text": [
      "[Epoch 52] Training: 100%|██████████| 79/79 [00:57<00:00,  1.37it/s]\n"
     ]
    },
    {
     "name": "stdout",
     "output_type": "stream",
     "text": [
      "Epoch 52 Train Loss: 0.5698 | Acc: 0.9980 | P: 0.9980 | R: 0.9980 | F1: 0.9980\n"
     ]
    },
    {
     "name": "stderr",
     "output_type": "stream",
     "text": [
      "[Epoch 52] Validation: 100%|██████████| 8/8 [00:03<00:00,  2.46it/s]\n"
     ]
    },
    {
     "name": "stdout",
     "output_type": "stream",
     "text": [
      "Epoch 52 Val Acc: 0.6080 | P: 0.6119 | R: 0.6080 | F1: 0.6036\n"
     ]
    },
    {
     "name": "stderr",
     "output_type": "stream",
     "text": [
      "[Epoch 53] Training: 100%|██████████| 79/79 [00:57<00:00,  1.38it/s]\n"
     ]
    },
    {
     "name": "stdout",
     "output_type": "stream",
     "text": [
      "Epoch 53 Train Loss: 4.0686 | Acc: 0.9874 | P: 0.9874 | R: 0.9874 | F1: 0.9874\n"
     ]
    },
    {
     "name": "stderr",
     "output_type": "stream",
     "text": [
      "[Epoch 53] Validation: 100%|██████████| 8/8 [00:03<00:00,  2.53it/s]\n"
     ]
    },
    {
     "name": "stdout",
     "output_type": "stream",
     "text": [
      "Epoch 53 Val Acc: 0.5680 | P: 0.5870 | R: 0.5680 | F1: 0.5650\n"
     ]
    },
    {
     "name": "stderr",
     "output_type": "stream",
     "text": [
      "[Epoch 54] Training: 100%|██████████| 79/79 [00:57<00:00,  1.38it/s]\n"
     ]
    },
    {
     "name": "stdout",
     "output_type": "stream",
     "text": [
      "Epoch 54 Train Loss: 17.2055 | Acc: 0.9248 | P: 0.9248 | R: 0.9248 | F1: 0.9247\n"
     ]
    },
    {
     "name": "stderr",
     "output_type": "stream",
     "text": [
      "[Epoch 54] Validation: 100%|██████████| 8/8 [00:03<00:00,  2.38it/s]\n"
     ]
    },
    {
     "name": "stdout",
     "output_type": "stream",
     "text": [
      "Epoch 54 Val Acc: 0.5340 | P: 0.5541 | R: 0.5340 | F1: 0.5355\n"
     ]
    },
    {
     "name": "stderr",
     "output_type": "stream",
     "text": [
      "[Epoch 55] Training: 100%|██████████| 79/79 [00:56<00:00,  1.39it/s]\n"
     ]
    },
    {
     "name": "stdout",
     "output_type": "stream",
     "text": [
      "Epoch 55 Train Loss: 15.2607 | Acc: 0.9394 | P: 0.9395 | R: 0.9394 | F1: 0.9394\n"
     ]
    },
    {
     "name": "stderr",
     "output_type": "stream",
     "text": [
      "[Epoch 55] Validation: 100%|██████████| 8/8 [00:03<00:00,  2.39it/s]\n"
     ]
    },
    {
     "name": "stdout",
     "output_type": "stream",
     "text": [
      "Epoch 55 Val Acc: 0.5040 | P: 0.5138 | R: 0.5040 | F1: 0.4934\n"
     ]
    },
    {
     "name": "stderr",
     "output_type": "stream",
     "text": [
      "[Epoch 56] Training: 100%|██████████| 79/79 [00:56<00:00,  1.39it/s]\n"
     ]
    },
    {
     "name": "stdout",
     "output_type": "stream",
     "text": [
      "Epoch 56 Train Loss: 19.7383 | Acc: 0.9112 | P: 0.9111 | R: 0.9112 | F1: 0.9111\n"
     ]
    },
    {
     "name": "stderr",
     "output_type": "stream",
     "text": [
      "[Epoch 56] Validation: 100%|██████████| 8/8 [00:03<00:00,  2.44it/s]\n"
     ]
    },
    {
     "name": "stdout",
     "output_type": "stream",
     "text": [
      "Epoch 56 Val Acc: 0.5640 | P: 0.5554 | R: 0.5640 | F1: 0.5469\n"
     ]
    },
    {
     "name": "stderr",
     "output_type": "stream",
     "text": [
      "[Epoch 57] Training: 100%|██████████| 79/79 [00:57<00:00,  1.38it/s]\n"
     ]
    },
    {
     "name": "stdout",
     "output_type": "stream",
     "text": [
      "Epoch 57 Train Loss: 4.9796 | Acc: 0.9822 | P: 0.9822 | R: 0.9822 | F1: 0.9822\n"
     ]
    },
    {
     "name": "stderr",
     "output_type": "stream",
     "text": [
      "[Epoch 57] Validation: 100%|██████████| 8/8 [00:03<00:00,  2.52it/s]\n"
     ]
    },
    {
     "name": "stdout",
     "output_type": "stream",
     "text": [
      "Epoch 57 Val Acc: 0.5860 | P: 0.6016 | R: 0.5860 | F1: 0.5846\n"
     ]
    },
    {
     "name": "stderr",
     "output_type": "stream",
     "text": [
      "[Epoch 58] Training: 100%|██████████| 79/79 [00:57<00:00,  1.37it/s]\n"
     ]
    },
    {
     "name": "stdout",
     "output_type": "stream",
     "text": [
      "Epoch 58 Train Loss: 9.1421 | Acc: 0.9632 | P: 0.9632 | R: 0.9632 | F1: 0.9632\n"
     ]
    },
    {
     "name": "stderr",
     "output_type": "stream",
     "text": [
      "[Epoch 58] Validation: 100%|██████████| 8/8 [00:03<00:00,  2.42it/s]\n"
     ]
    },
    {
     "name": "stdout",
     "output_type": "stream",
     "text": [
      "Epoch 58 Val Acc: 0.6040 | P: 0.6161 | R: 0.6040 | F1: 0.6039\n"
     ]
    },
    {
     "name": "stderr",
     "output_type": "stream",
     "text": [
      "[Epoch 59] Training: 100%|██████████| 79/79 [00:56<00:00,  1.39it/s]\n"
     ]
    },
    {
     "name": "stdout",
     "output_type": "stream",
     "text": [
      "Epoch 59 Train Loss: 3.7687 | Acc: 0.9866 | P: 0.9866 | R: 0.9866 | F1: 0.9866\n"
     ]
    },
    {
     "name": "stderr",
     "output_type": "stream",
     "text": [
      "[Epoch 59] Validation: 100%|██████████| 8/8 [00:03<00:00,  2.58it/s]\n"
     ]
    },
    {
     "name": "stdout",
     "output_type": "stream",
     "text": [
      "Epoch 59 Val Acc: 0.6060 | P: 0.6115 | R: 0.6060 | F1: 0.6073\n"
     ]
    },
    {
     "name": "stderr",
     "output_type": "stream",
     "text": [
      "[Epoch 60] Training: 100%|██████████| 79/79 [00:56<00:00,  1.39it/s]\n"
     ]
    },
    {
     "name": "stdout",
     "output_type": "stream",
     "text": [
      "Epoch 60 Train Loss: 1.4463 | Acc: 0.9946 | P: 0.9946 | R: 0.9946 | F1: 0.9946\n"
     ]
    },
    {
     "name": "stderr",
     "output_type": "stream",
     "text": [
      "[Epoch 60] Validation: 100%|██████████| 8/8 [00:03<00:00,  2.54it/s]\n"
     ]
    },
    {
     "name": "stdout",
     "output_type": "stream",
     "text": [
      "Epoch 60 Val Acc: 0.5880 | P: 0.5985 | R: 0.5880 | F1: 0.5871\n"
     ]
    },
    {
     "name": "stderr",
     "output_type": "stream",
     "text": [
      "[Epoch 61] Training: 100%|██████████| 79/79 [00:56<00:00,  1.39it/s]\n"
     ]
    },
    {
     "name": "stdout",
     "output_type": "stream",
     "text": [
      "Epoch 61 Train Loss: 1.4310 | Acc: 0.9954 | P: 0.9954 | R: 0.9954 | F1: 0.9954\n"
     ]
    },
    {
     "name": "stderr",
     "output_type": "stream",
     "text": [
      "[Epoch 61] Validation: 100%|██████████| 8/8 [00:03<00:00,  2.58it/s]\n"
     ]
    },
    {
     "name": "stdout",
     "output_type": "stream",
     "text": [
      "Epoch 61 Val Acc: 0.6200 | P: 0.6176 | R: 0.6200 | F1: 0.6179\n",
      "✅ Best model updated and saved!\n"
     ]
    },
    {
     "name": "stderr",
     "output_type": "stream",
     "text": [
      "[Epoch 62] Training: 100%|██████████| 79/79 [00:57<00:00,  1.36it/s]\n"
     ]
    },
    {
     "name": "stdout",
     "output_type": "stream",
     "text": [
      "Epoch 62 Train Loss: 1.7750 | Acc: 0.9928 | P: 0.9928 | R: 0.9928 | F1: 0.9928\n"
     ]
    },
    {
     "name": "stderr",
     "output_type": "stream",
     "text": [
      "[Epoch 62] Validation: 100%|██████████| 8/8 [00:03<00:00,  2.53it/s]\n"
     ]
    },
    {
     "name": "stdout",
     "output_type": "stream",
     "text": [
      "Epoch 62 Val Acc: 0.5880 | P: 0.6069 | R: 0.5880 | F1: 0.5879\n"
     ]
    },
    {
     "name": "stderr",
     "output_type": "stream",
     "text": [
      "[Epoch 63] Training: 100%|██████████| 79/79 [00:57<00:00,  1.37it/s]\n"
     ]
    },
    {
     "name": "stdout",
     "output_type": "stream",
     "text": [
      "Epoch 63 Train Loss: 2.3169 | Acc: 0.9922 | P: 0.9922 | R: 0.9922 | F1: 0.9922\n"
     ]
    },
    {
     "name": "stderr",
     "output_type": "stream",
     "text": [
      "[Epoch 63] Validation: 100%|██████████| 8/8 [00:03<00:00,  2.52it/s]\n"
     ]
    },
    {
     "name": "stdout",
     "output_type": "stream",
     "text": [
      "Epoch 63 Val Acc: 0.5760 | P: 0.5840 | R: 0.5760 | F1: 0.5702\n"
     ]
    },
    {
     "name": "stderr",
     "output_type": "stream",
     "text": [
      "[Epoch 64] Training: 100%|██████████| 79/79 [00:56<00:00,  1.40it/s]\n"
     ]
    },
    {
     "name": "stdout",
     "output_type": "stream",
     "text": [
      "Epoch 64 Train Loss: 3.2207 | Acc: 0.9872 | P: 0.9872 | R: 0.9872 | F1: 0.9872\n"
     ]
    },
    {
     "name": "stderr",
     "output_type": "stream",
     "text": [
      "[Epoch 64] Validation: 100%|██████████| 8/8 [00:03<00:00,  2.51it/s]\n"
     ]
    },
    {
     "name": "stdout",
     "output_type": "stream",
     "text": [
      "Epoch 64 Val Acc: 0.5660 | P: 0.5646 | R: 0.5660 | F1: 0.5610\n"
     ]
    },
    {
     "name": "stderr",
     "output_type": "stream",
     "text": [
      "[Epoch 65] Training: 100%|██████████| 79/79 [00:57<00:00,  1.37it/s]\n"
     ]
    },
    {
     "name": "stdout",
     "output_type": "stream",
     "text": [
      "Epoch 65 Train Loss: 6.8896 | Acc: 0.9706 | P: 0.9706 | R: 0.9706 | F1: 0.9706\n"
     ]
    },
    {
     "name": "stderr",
     "output_type": "stream",
     "text": [
      "[Epoch 65] Validation: 100%|██████████| 8/8 [00:03<00:00,  2.52it/s]\n"
     ]
    },
    {
     "name": "stdout",
     "output_type": "stream",
     "text": [
      "Epoch 65 Val Acc: 0.5660 | P: 0.5805 | R: 0.5660 | F1: 0.5621\n"
     ]
    },
    {
     "name": "stderr",
     "output_type": "stream",
     "text": [
      "[Epoch 66] Training: 100%|██████████| 79/79 [00:57<00:00,  1.38it/s]\n"
     ]
    },
    {
     "name": "stdout",
     "output_type": "stream",
     "text": [
      "Epoch 66 Train Loss: 7.1556 | Acc: 0.9698 | P: 0.9698 | R: 0.9698 | F1: 0.9698\n"
     ]
    },
    {
     "name": "stderr",
     "output_type": "stream",
     "text": [
      "[Epoch 66] Validation: 100%|██████████| 8/8 [00:03<00:00,  2.54it/s]\n"
     ]
    },
    {
     "name": "stdout",
     "output_type": "stream",
     "text": [
      "Epoch 66 Val Acc: 0.5800 | P: 0.5889 | R: 0.5800 | F1: 0.5704\n"
     ]
    },
    {
     "name": "stderr",
     "output_type": "stream",
     "text": [
      "[Epoch 67] Training: 100%|██████████| 79/79 [00:56<00:00,  1.40it/s]\n"
     ]
    },
    {
     "name": "stdout",
     "output_type": "stream",
     "text": [
      "Epoch 67 Train Loss: 4.0836 | Acc: 0.9836 | P: 0.9836 | R: 0.9836 | F1: 0.9836\n"
     ]
    },
    {
     "name": "stderr",
     "output_type": "stream",
     "text": [
      "[Epoch 67] Validation: 100%|██████████| 8/8 [00:03<00:00,  2.58it/s]\n"
     ]
    },
    {
     "name": "stdout",
     "output_type": "stream",
     "text": [
      "Epoch 67 Val Acc: 0.5660 | P: 0.5827 | R: 0.5660 | F1: 0.5666\n"
     ]
    },
    {
     "name": "stderr",
     "output_type": "stream",
     "text": [
      "[Epoch 68] Training: 100%|██████████| 79/79 [00:56<00:00,  1.40it/s]\n"
     ]
    },
    {
     "name": "stdout",
     "output_type": "stream",
     "text": [
      "Epoch 68 Train Loss: 8.6588 | Acc: 0.9626 | P: 0.9626 | R: 0.9626 | F1: 0.9626\n"
     ]
    },
    {
     "name": "stderr",
     "output_type": "stream",
     "text": [
      "[Epoch 68] Validation: 100%|██████████| 8/8 [00:03<00:00,  2.46it/s]\n"
     ]
    },
    {
     "name": "stdout",
     "output_type": "stream",
     "text": [
      "Epoch 68 Val Acc: 0.5920 | P: 0.5917 | R: 0.5920 | F1: 0.5887\n"
     ]
    },
    {
     "name": "stderr",
     "output_type": "stream",
     "text": [
      "[Epoch 69] Training: 100%|██████████| 79/79 [00:56<00:00,  1.40it/s]\n"
     ]
    },
    {
     "name": "stdout",
     "output_type": "stream",
     "text": [
      "Epoch 69 Train Loss: 5.9411 | Acc: 0.9744 | P: 0.9744 | R: 0.9744 | F1: 0.9744\n"
     ]
    },
    {
     "name": "stderr",
     "output_type": "stream",
     "text": [
      "[Epoch 69] Validation: 100%|██████████| 8/8 [00:03<00:00,  2.60it/s]\n"
     ]
    },
    {
     "name": "stdout",
     "output_type": "stream",
     "text": [
      "Epoch 69 Val Acc: 0.5760 | P: 0.5790 | R: 0.5760 | F1: 0.5667\n"
     ]
    },
    {
     "name": "stderr",
     "output_type": "stream",
     "text": [
      "[Epoch 70] Training: 100%|██████████| 79/79 [00:56<00:00,  1.39it/s]\n"
     ]
    },
    {
     "name": "stdout",
     "output_type": "stream",
     "text": [
      "Epoch 70 Train Loss: 5.2684 | Acc: 0.9776 | P: 0.9776 | R: 0.9776 | F1: 0.9776\n"
     ]
    },
    {
     "name": "stderr",
     "output_type": "stream",
     "text": [
      "[Epoch 70] Validation: 100%|██████████| 8/8 [00:03<00:00,  2.56it/s]\n"
     ]
    },
    {
     "name": "stdout",
     "output_type": "stream",
     "text": [
      "Epoch 70 Val Acc: 0.5380 | P: 0.5652 | R: 0.5380 | F1: 0.5410\n"
     ]
    },
    {
     "name": "stderr",
     "output_type": "stream",
     "text": [
      "[Epoch 71] Training: 100%|██████████| 79/79 [00:56<00:00,  1.39it/s]\n"
     ]
    },
    {
     "name": "stdout",
     "output_type": "stream",
     "text": [
      "Epoch 71 Train Loss: 7.4490 | Acc: 0.9694 | P: 0.9694 | R: 0.9694 | F1: 0.9694\n"
     ]
    },
    {
     "name": "stderr",
     "output_type": "stream",
     "text": [
      "[Epoch 71] Validation: 100%|██████████| 8/8 [00:03<00:00,  2.53it/s]\n"
     ]
    },
    {
     "name": "stdout",
     "output_type": "stream",
     "text": [
      "Epoch 71 Val Acc: 0.5760 | P: 0.5896 | R: 0.5760 | F1: 0.5724\n"
     ]
    },
    {
     "name": "stderr",
     "output_type": "stream",
     "text": [
      "[Epoch 72] Training: 100%|██████████| 79/79 [00:57<00:00,  1.37it/s]\n"
     ]
    },
    {
     "name": "stdout",
     "output_type": "stream",
     "text": [
      "Epoch 72 Train Loss: 5.5656 | Acc: 0.9766 | P: 0.9766 | R: 0.9766 | F1: 0.9766\n"
     ]
    },
    {
     "name": "stderr",
     "output_type": "stream",
     "text": [
      "[Epoch 72] Validation: 100%|██████████| 8/8 [00:03<00:00,  2.52it/s]\n"
     ]
    },
    {
     "name": "stdout",
     "output_type": "stream",
     "text": [
      "Epoch 72 Val Acc: 0.5840 | P: 0.5802 | R: 0.5840 | F1: 0.5767\n"
     ]
    },
    {
     "name": "stderr",
     "output_type": "stream",
     "text": [
      "[Epoch 73] Training: 100%|██████████| 79/79 [00:57<00:00,  1.38it/s]\n"
     ]
    },
    {
     "name": "stdout",
     "output_type": "stream",
     "text": [
      "Epoch 73 Train Loss: 3.9638 | Acc: 0.9870 | P: 0.9870 | R: 0.9870 | F1: 0.9870\n"
     ]
    },
    {
     "name": "stderr",
     "output_type": "stream",
     "text": [
      "[Epoch 73] Validation: 100%|██████████| 8/8 [00:03<00:00,  2.53it/s]\n"
     ]
    },
    {
     "name": "stdout",
     "output_type": "stream",
     "text": [
      "Epoch 73 Val Acc: 0.6180 | P: 0.6161 | R: 0.6180 | F1: 0.6148\n"
     ]
    },
    {
     "name": "stderr",
     "output_type": "stream",
     "text": [
      "[Epoch 74] Training: 100%|██████████| 79/79 [00:57<00:00,  1.38it/s]\n"
     ]
    },
    {
     "name": "stdout",
     "output_type": "stream",
     "text": [
      "Epoch 74 Train Loss: 13.8245 | Acc: 0.9428 | P: 0.9429 | R: 0.9428 | F1: 0.9428\n"
     ]
    },
    {
     "name": "stderr",
     "output_type": "stream",
     "text": [
      "[Epoch 74] Validation: 100%|██████████| 8/8 [00:03<00:00,  2.53it/s]\n"
     ]
    },
    {
     "name": "stdout",
     "output_type": "stream",
     "text": [
      "Epoch 74 Val Acc: 0.5560 | P: 0.5516 | R: 0.5560 | F1: 0.5497\n"
     ]
    },
    {
     "name": "stderr",
     "output_type": "stream",
     "text": [
      "[Epoch 75] Training: 100%|██████████| 79/79 [00:56<00:00,  1.39it/s]\n"
     ]
    },
    {
     "name": "stdout",
     "output_type": "stream",
     "text": [
      "Epoch 75 Train Loss: 3.4925 | Acc: 0.9864 | P: 0.9864 | R: 0.9864 | F1: 0.9864\n"
     ]
    },
    {
     "name": "stderr",
     "output_type": "stream",
     "text": [
      "[Epoch 75] Validation: 100%|██████████| 8/8 [00:03<00:00,  2.61it/s]\n"
     ]
    },
    {
     "name": "stdout",
     "output_type": "stream",
     "text": [
      "Epoch 75 Val Acc: 0.5740 | P: 0.5897 | R: 0.5740 | F1: 0.5769\n"
     ]
    },
    {
     "name": "stderr",
     "output_type": "stream",
     "text": [
      "[Epoch 76] Training: 100%|██████████| 79/79 [00:56<00:00,  1.40it/s]\n"
     ]
    },
    {
     "name": "stdout",
     "output_type": "stream",
     "text": [
      "Epoch 76 Train Loss: 4.0031 | Acc: 0.9832 | P: 0.9832 | R: 0.9832 | F1: 0.9832\n"
     ]
    },
    {
     "name": "stderr",
     "output_type": "stream",
     "text": [
      "[Epoch 76] Validation: 100%|██████████| 8/8 [00:03<00:00,  2.59it/s]\n"
     ]
    },
    {
     "name": "stdout",
     "output_type": "stream",
     "text": [
      "Epoch 76 Val Acc: 0.5960 | P: 0.5841 | R: 0.5960 | F1: 0.5841\n"
     ]
    },
    {
     "name": "stderr",
     "output_type": "stream",
     "text": [
      "[Epoch 77] Training: 100%|██████████| 79/79 [00:57<00:00,  1.37it/s]\n"
     ]
    },
    {
     "name": "stdout",
     "output_type": "stream",
     "text": [
      "Epoch 77 Train Loss: 3.2359 | Acc: 0.9862 | P: 0.9862 | R: 0.9862 | F1: 0.9862\n"
     ]
    },
    {
     "name": "stderr",
     "output_type": "stream",
     "text": [
      "[Epoch 77] Validation: 100%|██████████| 8/8 [00:03<00:00,  2.55it/s]\n"
     ]
    },
    {
     "name": "stdout",
     "output_type": "stream",
     "text": [
      "Epoch 77 Val Acc: 0.5860 | P: 0.5804 | R: 0.5860 | F1: 0.5757\n"
     ]
    },
    {
     "name": "stderr",
     "output_type": "stream",
     "text": [
      "[Epoch 78] Training: 100%|██████████| 79/79 [00:56<00:00,  1.39it/s]\n"
     ]
    },
    {
     "name": "stdout",
     "output_type": "stream",
     "text": [
      "Epoch 78 Train Loss: 5.5425 | Acc: 0.9790 | P: 0.9790 | R: 0.9790 | F1: 0.9790\n"
     ]
    },
    {
     "name": "stderr",
     "output_type": "stream",
     "text": [
      "[Epoch 78] Validation: 100%|██████████| 8/8 [00:03<00:00,  2.57it/s]\n"
     ]
    },
    {
     "name": "stdout",
     "output_type": "stream",
     "text": [
      "Epoch 78 Val Acc: 0.5600 | P: 0.5653 | R: 0.5600 | F1: 0.5491\n"
     ]
    },
    {
     "name": "stderr",
     "output_type": "stream",
     "text": [
      "[Epoch 79] Training: 100%|██████████| 79/79 [00:56<00:00,  1.39it/s]\n"
     ]
    },
    {
     "name": "stdout",
     "output_type": "stream",
     "text": [
      "Epoch 79 Train Loss: 11.6010 | Acc: 0.9498 | P: 0.9498 | R: 0.9498 | F1: 0.9498\n"
     ]
    },
    {
     "name": "stderr",
     "output_type": "stream",
     "text": [
      "[Epoch 79] Validation: 100%|██████████| 8/8 [00:03<00:00,  2.33it/s]\n"
     ]
    },
    {
     "name": "stdout",
     "output_type": "stream",
     "text": [
      "Epoch 79 Val Acc: 0.5500 | P: 0.5535 | R: 0.5500 | F1: 0.5412\n"
     ]
    },
    {
     "name": "stderr",
     "output_type": "stream",
     "text": [
      "[Epoch 80] Training: 100%|██████████| 79/79 [00:56<00:00,  1.39it/s]\n"
     ]
    },
    {
     "name": "stdout",
     "output_type": "stream",
     "text": [
      "Epoch 80 Train Loss: 2.8479 | Acc: 0.9886 | P: 0.9886 | R: 0.9886 | F1: 0.9886\n"
     ]
    },
    {
     "name": "stderr",
     "output_type": "stream",
     "text": [
      "[Epoch 80] Validation: 100%|██████████| 8/8 [00:03<00:00,  2.61it/s]\n"
     ]
    },
    {
     "name": "stdout",
     "output_type": "stream",
     "text": [
      "Epoch 80 Val Acc: 0.5860 | P: 0.5871 | R: 0.5860 | F1: 0.5831\n"
     ]
    },
    {
     "name": "stderr",
     "output_type": "stream",
     "text": [
      "[Epoch 81] Training: 100%|██████████| 79/79 [00:56<00:00,  1.40it/s]\n"
     ]
    },
    {
     "name": "stdout",
     "output_type": "stream",
     "text": [
      "Epoch 81 Train Loss: 1.3556 | Acc: 0.9958 | P: 0.9958 | R: 0.9958 | F1: 0.9958\n"
     ]
    },
    {
     "name": "stderr",
     "output_type": "stream",
     "text": [
      "[Epoch 81] Validation: 100%|██████████| 8/8 [00:03<00:00,  2.60it/s]\n"
     ]
    },
    {
     "name": "stdout",
     "output_type": "stream",
     "text": [
      "Epoch 81 Val Acc: 0.6060 | P: 0.6012 | R: 0.6060 | F1: 0.6009\n"
     ]
    },
    {
     "name": "stderr",
     "output_type": "stream",
     "text": [
      "[Epoch 82] Training: 100%|██████████| 79/79 [00:57<00:00,  1.37it/s]\n"
     ]
    },
    {
     "name": "stdout",
     "output_type": "stream",
     "text": [
      "Epoch 82 Train Loss: 0.5360 | Acc: 0.9980 | P: 0.9980 | R: 0.9980 | F1: 0.9980\n"
     ]
    },
    {
     "name": "stderr",
     "output_type": "stream",
     "text": [
      "[Epoch 82] Validation: 100%|██████████| 8/8 [00:03<00:00,  2.56it/s]\n"
     ]
    },
    {
     "name": "stdout",
     "output_type": "stream",
     "text": [
      "Epoch 82 Val Acc: 0.5800 | P: 0.5805 | R: 0.5800 | F1: 0.5788\n"
     ]
    },
    {
     "name": "stderr",
     "output_type": "stream",
     "text": [
      "[Epoch 83] Training: 100%|██████████| 79/79 [00:56<00:00,  1.40it/s]\n"
     ]
    },
    {
     "name": "stdout",
     "output_type": "stream",
     "text": [
      "Epoch 83 Train Loss: 0.6059 | Acc: 0.9976 | P: 0.9976 | R: 0.9976 | F1: 0.9976\n"
     ]
    },
    {
     "name": "stderr",
     "output_type": "stream",
     "text": [
      "[Epoch 83] Validation: 100%|██████████| 8/8 [00:03<00:00,  2.59it/s]\n"
     ]
    },
    {
     "name": "stdout",
     "output_type": "stream",
     "text": [
      "Epoch 83 Val Acc: 0.5980 | P: 0.6016 | R: 0.5980 | F1: 0.5945\n"
     ]
    },
    {
     "name": "stderr",
     "output_type": "stream",
     "text": [
      "[Epoch 84] Training: 100%|██████████| 79/79 [00:57<00:00,  1.37it/s]\n"
     ]
    },
    {
     "name": "stdout",
     "output_type": "stream",
     "text": [
      "Epoch 84 Train Loss: 0.4628 | Acc: 0.9980 | P: 0.9980 | R: 0.9980 | F1: 0.9980\n"
     ]
    },
    {
     "name": "stderr",
     "output_type": "stream",
     "text": [
      "[Epoch 84] Validation: 100%|██████████| 8/8 [00:03<00:00,  2.48it/s]\n"
     ]
    },
    {
     "name": "stdout",
     "output_type": "stream",
     "text": [
      "Epoch 84 Val Acc: 0.5920 | P: 0.5867 | R: 0.5920 | F1: 0.5871\n"
     ]
    },
    {
     "name": "stderr",
     "output_type": "stream",
     "text": [
      "[Epoch 85] Training: 100%|██████████| 79/79 [00:56<00:00,  1.39it/s]\n"
     ]
    },
    {
     "name": "stdout",
     "output_type": "stream",
     "text": [
      "Epoch 85 Train Loss: 0.5170 | Acc: 0.9976 | P: 0.9976 | R: 0.9976 | F1: 0.9976\n"
     ]
    },
    {
     "name": "stderr",
     "output_type": "stream",
     "text": [
      "[Epoch 85] Validation: 100%|██████████| 8/8 [00:03<00:00,  2.49it/s]\n"
     ]
    },
    {
     "name": "stdout",
     "output_type": "stream",
     "text": [
      "Epoch 85 Val Acc: 0.5920 | P: 0.5862 | R: 0.5920 | F1: 0.5877\n"
     ]
    },
    {
     "name": "stderr",
     "output_type": "stream",
     "text": [
      "[Epoch 86] Training: 100%|██████████| 79/79 [00:57<00:00,  1.37it/s]\n"
     ]
    },
    {
     "name": "stdout",
     "output_type": "stream",
     "text": [
      "Epoch 86 Train Loss: 0.4314 | Acc: 0.9978 | P: 0.9978 | R: 0.9978 | F1: 0.9978\n"
     ]
    },
    {
     "name": "stderr",
     "output_type": "stream",
     "text": [
      "[Epoch 86] Validation: 100%|██████████| 8/8 [00:03<00:00,  2.56it/s]\n"
     ]
    },
    {
     "name": "stdout",
     "output_type": "stream",
     "text": [
      "Epoch 86 Val Acc: 0.6040 | P: 0.6024 | R: 0.6040 | F1: 0.6013\n"
     ]
    },
    {
     "name": "stderr",
     "output_type": "stream",
     "text": [
      "[Epoch 87] Training: 100%|██████████| 79/79 [00:57<00:00,  1.38it/s]\n"
     ]
    },
    {
     "name": "stdout",
     "output_type": "stream",
     "text": [
      "Epoch 87 Train Loss: 0.3819 | Acc: 0.9976 | P: 0.9976 | R: 0.9976 | F1: 0.9976\n"
     ]
    },
    {
     "name": "stderr",
     "output_type": "stream",
     "text": [
      "[Epoch 87] Validation: 100%|██████████| 8/8 [00:03<00:00,  2.44it/s]\n"
     ]
    },
    {
     "name": "stdout",
     "output_type": "stream",
     "text": [
      "Epoch 87 Val Acc: 0.5920 | P: 0.5892 | R: 0.5920 | F1: 0.5891\n"
     ]
    },
    {
     "name": "stderr",
     "output_type": "stream",
     "text": [
      "[Epoch 88] Training: 100%|██████████| 79/79 [00:57<00:00,  1.38it/s]\n"
     ]
    },
    {
     "name": "stdout",
     "output_type": "stream",
     "text": [
      "Epoch 88 Train Loss: 0.4429 | Acc: 0.9978 | P: 0.9978 | R: 0.9978 | F1: 0.9978\n"
     ]
    },
    {
     "name": "stderr",
     "output_type": "stream",
     "text": [
      "[Epoch 88] Validation: 100%|██████████| 8/8 [00:03<00:00,  2.54it/s]\n"
     ]
    },
    {
     "name": "stdout",
     "output_type": "stream",
     "text": [
      "Epoch 88 Val Acc: 0.5960 | P: 0.5956 | R: 0.5960 | F1: 0.5952\n"
     ]
    },
    {
     "name": "stderr",
     "output_type": "stream",
     "text": [
      "[Epoch 89] Training: 100%|██████████| 79/79 [00:56<00:00,  1.40it/s]\n"
     ]
    },
    {
     "name": "stdout",
     "output_type": "stream",
     "text": [
      "Epoch 89 Train Loss: 0.3999 | Acc: 0.9978 | P: 0.9978 | R: 0.9978 | F1: 0.9978\n"
     ]
    },
    {
     "name": "stderr",
     "output_type": "stream",
     "text": [
      "[Epoch 89] Validation: 100%|██████████| 8/8 [00:03<00:00,  2.48it/s]\n"
     ]
    },
    {
     "name": "stdout",
     "output_type": "stream",
     "text": [
      "Epoch 89 Val Acc: 0.6000 | P: 0.5984 | R: 0.6000 | F1: 0.5981\n"
     ]
    },
    {
     "name": "stderr",
     "output_type": "stream",
     "text": [
      "[Epoch 90] Training: 100%|██████████| 79/79 [00:57<00:00,  1.39it/s]\n"
     ]
    },
    {
     "name": "stdout",
     "output_type": "stream",
     "text": [
      "Epoch 90 Train Loss: 0.3342 | Acc: 0.9982 | P: 0.9982 | R: 0.9982 | F1: 0.9982\n"
     ]
    },
    {
     "name": "stderr",
     "output_type": "stream",
     "text": [
      "[Epoch 90] Validation: 100%|██████████| 8/8 [00:03<00:00,  2.49it/s]\n"
     ]
    },
    {
     "name": "stdout",
     "output_type": "stream",
     "text": [
      "Epoch 90 Val Acc: 0.6000 | P: 0.5941 | R: 0.6000 | F1: 0.5943\n"
     ]
    },
    {
     "name": "stderr",
     "output_type": "stream",
     "text": [
      "[Epoch 91] Training: 100%|██████████| 79/79 [00:56<00:00,  1.41it/s]\n"
     ]
    },
    {
     "name": "stdout",
     "output_type": "stream",
     "text": [
      "Epoch 91 Train Loss: 0.4001 | Acc: 0.9974 | P: 0.9974 | R: 0.9974 | F1: 0.9974\n"
     ]
    },
    {
     "name": "stderr",
     "output_type": "stream",
     "text": [
      "[Epoch 91] Validation: 100%|██████████| 8/8 [00:03<00:00,  2.37it/s]\n"
     ]
    },
    {
     "name": "stdout",
     "output_type": "stream",
     "text": [
      "Epoch 91 Val Acc: 0.5840 | P: 0.5797 | R: 0.5840 | F1: 0.5793\n"
     ]
    },
    {
     "name": "stderr",
     "output_type": "stream",
     "text": [
      "[Epoch 92] Training: 100%|██████████| 79/79 [00:57<00:00,  1.38it/s]\n"
     ]
    },
    {
     "name": "stdout",
     "output_type": "stream",
     "text": [
      "Epoch 92 Train Loss: 0.4652 | Acc: 0.9972 | P: 0.9972 | R: 0.9972 | F1: 0.9972\n"
     ]
    },
    {
     "name": "stderr",
     "output_type": "stream",
     "text": [
      "[Epoch 92] Validation: 100%|██████████| 8/8 [00:03<00:00,  2.37it/s]\n"
     ]
    },
    {
     "name": "stdout",
     "output_type": "stream",
     "text": [
      "Epoch 92 Val Acc: 0.6080 | P: 0.6065 | R: 0.6080 | F1: 0.6041\n"
     ]
    },
    {
     "name": "stderr",
     "output_type": "stream",
     "text": [
      "[Epoch 93] Training: 100%|██████████| 79/79 [00:56<00:00,  1.39it/s]\n"
     ]
    },
    {
     "name": "stdout",
     "output_type": "stream",
     "text": [
      "Epoch 93 Train Loss: 0.4092 | Acc: 0.9976 | P: 0.9976 | R: 0.9976 | F1: 0.9976\n"
     ]
    },
    {
     "name": "stderr",
     "output_type": "stream",
     "text": [
      "[Epoch 93] Validation: 100%|██████████| 8/8 [00:03<00:00,  2.53it/s]\n"
     ]
    },
    {
     "name": "stdout",
     "output_type": "stream",
     "text": [
      "Epoch 93 Val Acc: 0.5940 | P: 0.5889 | R: 0.5940 | F1: 0.5888\n"
     ]
    },
    {
     "name": "stderr",
     "output_type": "stream",
     "text": [
      "[Epoch 94] Training: 100%|██████████| 79/79 [00:56<00:00,  1.39it/s]\n"
     ]
    },
    {
     "name": "stdout",
     "output_type": "stream",
     "text": [
      "Epoch 94 Train Loss: 0.4271 | Acc: 0.9974 | P: 0.9974 | R: 0.9974 | F1: 0.9974\n"
     ]
    },
    {
     "name": "stderr",
     "output_type": "stream",
     "text": [
      "[Epoch 94] Validation: 100%|██████████| 8/8 [00:03<00:00,  2.56it/s]\n"
     ]
    },
    {
     "name": "stdout",
     "output_type": "stream",
     "text": [
      "Epoch 94 Val Acc: 0.6020 | P: 0.5995 | R: 0.6020 | F1: 0.5987\n"
     ]
    },
    {
     "name": "stderr",
     "output_type": "stream",
     "text": [
      "[Epoch 95] Training: 100%|██████████| 79/79 [00:57<00:00,  1.38it/s]\n"
     ]
    },
    {
     "name": "stdout",
     "output_type": "stream",
     "text": [
      "Epoch 95 Train Loss: 0.3158 | Acc: 0.9978 | P: 0.9978 | R: 0.9978 | F1: 0.9978\n"
     ]
    },
    {
     "name": "stderr",
     "output_type": "stream",
     "text": [
      "[Epoch 95] Validation: 100%|██████████| 8/8 [00:03<00:00,  2.45it/s]\n"
     ]
    },
    {
     "name": "stdout",
     "output_type": "stream",
     "text": [
      "Epoch 95 Val Acc: 0.5860 | P: 0.5821 | R: 0.5860 | F1: 0.5813\n"
     ]
    },
    {
     "name": "stderr",
     "output_type": "stream",
     "text": [
      "[Epoch 96] Training: 100%|██████████| 79/79 [00:57<00:00,  1.38it/s]\n"
     ]
    },
    {
     "name": "stdout",
     "output_type": "stream",
     "text": [
      "Epoch 96 Train Loss: 0.3678 | Acc: 0.9974 | P: 0.9974 | R: 0.9974 | F1: 0.9974\n"
     ]
    },
    {
     "name": "stderr",
     "output_type": "stream",
     "text": [
      "[Epoch 96] Validation: 100%|██████████| 8/8 [00:03<00:00,  2.48it/s]\n"
     ]
    },
    {
     "name": "stdout",
     "output_type": "stream",
     "text": [
      "Epoch 96 Val Acc: 0.6040 | P: 0.6011 | R: 0.6040 | F1: 0.6009\n"
     ]
    },
    {
     "name": "stderr",
     "output_type": "stream",
     "text": [
      "[Epoch 97] Training: 100%|██████████| 79/79 [00:57<00:00,  1.38it/s]\n"
     ]
    },
    {
     "name": "stdout",
     "output_type": "stream",
     "text": [
      "Epoch 97 Train Loss: 0.3197 | Acc: 0.9984 | P: 0.9984 | R: 0.9984 | F1: 0.9984\n"
     ]
    },
    {
     "name": "stderr",
     "output_type": "stream",
     "text": [
      "[Epoch 97] Validation: 100%|██████████| 8/8 [00:03<00:00,  2.53it/s]\n"
     ]
    },
    {
     "name": "stdout",
     "output_type": "stream",
     "text": [
      "Epoch 97 Val Acc: 0.6020 | P: 0.5981 | R: 0.6020 | F1: 0.5954\n"
     ]
    },
    {
     "name": "stderr",
     "output_type": "stream",
     "text": [
      "[Epoch 98] Training: 100%|██████████| 79/79 [00:57<00:00,  1.36it/s]\n"
     ]
    },
    {
     "name": "stdout",
     "output_type": "stream",
     "text": [
      "Epoch 98 Train Loss: 0.4017 | Acc: 0.9976 | P: 0.9976 | R: 0.9976 | F1: 0.9976\n"
     ]
    },
    {
     "name": "stderr",
     "output_type": "stream",
     "text": [
      "[Epoch 98] Validation: 100%|██████████| 8/8 [00:03<00:00,  2.43it/s]\n"
     ]
    },
    {
     "name": "stdout",
     "output_type": "stream",
     "text": [
      "Epoch 98 Val Acc: 0.5860 | P: 0.5835 | R: 0.5860 | F1: 0.5827\n"
     ]
    },
    {
     "name": "stderr",
     "output_type": "stream",
     "text": [
      "[Epoch 99] Training: 100%|██████████| 79/79 [00:56<00:00,  1.39it/s]\n"
     ]
    },
    {
     "name": "stdout",
     "output_type": "stream",
     "text": [
      "Epoch 99 Train Loss: 0.3556 | Acc: 0.9978 | P: 0.9978 | R: 0.9978 | F1: 0.9978\n"
     ]
    },
    {
     "name": "stderr",
     "output_type": "stream",
     "text": [
      "[Epoch 99] Validation: 100%|██████████| 8/8 [00:03<00:00,  2.38it/s]\n"
     ]
    },
    {
     "name": "stdout",
     "output_type": "stream",
     "text": [
      "Epoch 99 Val Acc: 0.5980 | P: 0.5963 | R: 0.5980 | F1: 0.5953\n"
     ]
    },
    {
     "name": "stderr",
     "output_type": "stream",
     "text": [
      "[Epoch 100] Training: 100%|██████████| 79/79 [00:57<00:00,  1.38it/s]\n"
     ]
    },
    {
     "name": "stdout",
     "output_type": "stream",
     "text": [
      "Epoch 100 Train Loss: 0.3587 | Acc: 0.9980 | P: 0.9980 | R: 0.9980 | F1: 0.9980\n"
     ]
    },
    {
     "name": "stderr",
     "output_type": "stream",
     "text": [
      "[Epoch 100] Validation: 100%|██████████| 8/8 [00:03<00:00,  2.41it/s]\n"
     ]
    },
    {
     "name": "stdout",
     "output_type": "stream",
     "text": [
      "Epoch 100 Val Acc: 0.6180 | P: 0.6132 | R: 0.6180 | F1: 0.6148\n"
     ]
    }
   ],
   "source": [
    "import os\n",
    "import random\n",
    "import csv\n",
    "import gc\n",
    "from glob import glob\n",
    "from PIL import Image\n",
    "from tqdm import tqdm\n",
    "from sklearn.metrics import precision_score, recall_score, f1_score\n",
    "\n",
    "import torch\n",
    "import torch.nn as nn\n",
    "import torch.optim as optim\n",
    "from torch.utils.data import DataLoader, Dataset\n",
    "from torchvision import transforms\n",
    "\n",
    "# Set seeds for reproducibility\n",
    "random.seed(42)\n",
    "torch.manual_seed(42)\n",
    "\n",
    "# === CONFIG ===\n",
    "ROOT_DIR = \"/kaggle/input/imagenet1k0\"\n",
    "NUM_CLASSES = 10\n",
    "TRAIN_PER_CLASS = 500\n",
    "VAL_PER_CLASS = 50\n",
    "IMG_SIZE = 224\n",
    "BATCH_SIZE = 64\n",
    "EPOCHS = 100\n",
    "DEVICE = 'cuda' if torch.cuda.is_available() else 'cpu'\n",
    "LOG_FILE = \"log.csv\"\n",
    "SAVE_PATH = \"best_model.pth\"\n",
    "\n",
    "# === Transforms ===\n",
    "transform = transforms.Compose([\n",
    "    transforms.Resize((IMG_SIZE, IMG_SIZE)),\n",
    "    transforms.ToTensor(),\n",
    "])\n",
    "\n",
    "# === Dataset Class ===\n",
    "class ImageDataset(Dataset):\n",
    "    def __init__(self, samples, transform=None):\n",
    "        self.samples = samples\n",
    "        self.transform = transform\n",
    "\n",
    "    def __len__(self):\n",
    "        return len(self.samples)\n",
    "\n",
    "    def __getitem__(self, idx):\n",
    "        img_path, label = self.samples[idx]\n",
    "        image = Image.open(img_path).convert(\"RGB\")\n",
    "        if self.transform:\n",
    "            image = self.transform(image)\n",
    "        return image, label\n",
    "\n",
    "# === Sample 10 classes ===\n",
    "all_classes = sorted([d for d in os.listdir(ROOT_DIR) if os.path.isdir(os.path.join(ROOT_DIR, d))])\n",
    "selected_classes = all_classes[:NUM_CLASSES]\n",
    "print(selected_classes)\n",
    "# === Collect images per class ===\n",
    "class_to_idx = {cls_name: i for i, cls_name in enumerate(selected_classes)}\n",
    "train_samples, val_samples = [], []\n",
    "\n",
    "for cls in selected_classes:\n",
    "    cls_path = os.path.join(ROOT_DIR, cls)\n",
    "    images = sorted(glob(os.path.join(cls_path, \"*.*\")))\n",
    "    selected_images = random.sample(images, TRAIN_PER_CLASS + VAL_PER_CLASS)\n",
    "    train_images = selected_images[:TRAIN_PER_CLASS]\n",
    "    val_images = selected_images[TRAIN_PER_CLASS:]\n",
    "    train_samples.extend([(img, class_to_idx[cls]) for img in train_images])\n",
    "    val_samples.extend([(img, class_to_idx[cls]) for img in val_images])\n",
    "\n",
    "# === DataLoaders ===\n",
    "train_loader = DataLoader(ImageDataset(train_samples, transform), batch_size=BATCH_SIZE, shuffle=True)\n",
    "val_loader = DataLoader(ImageDataset(val_samples, transform), batch_size=BATCH_SIZE)\n",
    "\n",
    "# === Model, Loss, Optimizer ===\n",
    "model = SwinTransformer(num_classes=NUM_CLASSES).to(DEVICE)\n",
    "criterion = nn.CrossEntropyLoss()\n",
    "optimizer = optim.Adam(model.parameters(), lr=1e-4)\n",
    "\n",
    "# === CSV Logger ===\n",
    "with open(LOG_FILE, mode='w', newline='') as f:\n",
    "    writer = csv.writer(f)\n",
    "    writer.writerow([\n",
    "        \"Epoch\", \"Train Loss\", \"Train Acc\", \"Train Precision\", \"Train Recall\", \"Train F1\",\n",
    "        \"Val Acc\", \"Val Precision\", \"Val Recall\", \"Val F1\"\n",
    "    ])\n",
    "\n",
    "# === Training Loop ===\n",
    "best_f1 = 0\n",
    "\n",
    "for epoch in range(EPOCHS):\n",
    "    model.train()\n",
    "    train_preds, train_labels = [], []\n",
    "    train_loss = 0\n",
    "\n",
    "    for inputs, labels in tqdm(train_loader, desc=f\"[Epoch {epoch+1}] Training\"):\n",
    "        inputs, labels = inputs.to(DEVICE), labels.to(DEVICE)\n",
    "        outputs = model(inputs)\n",
    "        loss = criterion(outputs, labels)\n",
    "        optimizer.zero_grad()\n",
    "        loss.backward()\n",
    "        optimizer.step()\n",
    "\n",
    "        train_loss += loss.item()\n",
    "        preds = outputs.argmax(dim=1)\n",
    "        train_preds.extend(preds.cpu().numpy())\n",
    "        train_labels.extend(labels.cpu().numpy())\n",
    "\n",
    "    train_acc = (torch.tensor(train_preds) == torch.tensor(train_labels)).float().mean().item()\n",
    "    train_precision = precision_score(train_labels, train_preds, average='macro',zero_division=0)\n",
    "    train_recall = recall_score(train_labels, train_preds, average='macro',zero_division=0)\n",
    "    train_f1 = f1_score(train_labels, train_preds, average='macro',zero_division=0)\n",
    "    print(f\"Epoch {epoch+1} Train Loss: {train_loss:.4f} | Acc: {train_acc:.4f} | P: {train_precision:.4f} | R: {train_recall:.4f} | F1: {train_f1:.4f}\")\n",
    "\n",
    "    # === Validation ===\n",
    "    model.eval()\n",
    "    val_preds, val_labels = [], []\n",
    "\n",
    "    with torch.no_grad():\n",
    "        for inputs, labels in tqdm(val_loader, desc=f\"[Epoch {epoch+1}] Validation\"):\n",
    "            inputs, labels = inputs.to(DEVICE), labels.to(DEVICE)\n",
    "            outputs = model(inputs)\n",
    "            preds = outputs.argmax(dim=1)\n",
    "            val_preds.extend(preds.cpu().numpy())\n",
    "            val_labels.extend(labels.cpu().numpy())\n",
    "\n",
    "    val_acc = (torch.tensor(val_preds) == torch.tensor(val_labels)).float().mean().item()\n",
    "    val_precision = precision_score(val_labels, val_preds, average='macro', zero_division=0)\n",
    "    val_recall = recall_score(val_labels, val_preds, average='macro', zero_division=0)\n",
    "    val_f1 = f1_score(val_labels, val_preds, average='macro', zero_division=0)\n",
    "    print(f\"Epoch {epoch+1} Val Acc: {val_acc:.4f} | P: {val_precision:.4f} | R: {val_recall:.4f} | F1: {val_f1:.4f}\")\n",
    "\n",
    "    # === Save best model ===\n",
    "    if val_f1 > best_f1:\n",
    "        best_f1 = val_f1\n",
    "        torch.save(model.state_dict(), SAVE_PATH)\n",
    "        print(\"✅ Best model updated and saved!\")\n",
    "\n",
    "    # === Log to CSV ===\n",
    "    with open(LOG_FILE, mode='a', newline='') as f:\n",
    "        writer = csv.writer(f)\n",
    "        writer.writerow([\n",
    "            epoch + 1,\n",
    "            round(train_loss, 4),\n",
    "            round(train_acc, 4),\n",
    "            round(train_precision, 4),\n",
    "            round(train_recall, 4),\n",
    "            round(train_f1, 4),\n",
    "            round(val_acc, 4),\n",
    "            round(val_precision, 4),\n",
    "            round(val_recall, 4),\n",
    "            round(val_f1, 4)\n",
    "        ])\n",
    "\n",
    "    # Optional: Free up memory\n",
    "    torch.cuda.empty_cache()\n",
    "    gc.collect()"
   ]
  },
  {
   "cell_type": "code",
   "execution_count": null,
   "id": "dd1daaed",
   "metadata": {
    "papermill": {
     "duration": 0.360009,
     "end_time": "2025-04-22T03:26:35.028647",
     "exception": false,
     "start_time": "2025-04-22T03:26:34.668638",
     "status": "completed"
    },
    "tags": []
   },
   "outputs": [],
   "source": []
  },
  {
   "cell_type": "code",
   "execution_count": null,
   "id": "6bce6292",
   "metadata": {
    "papermill": {
     "duration": 0.359758,
     "end_time": "2025-04-22T03:26:35.820426",
     "exception": false,
     "start_time": "2025-04-22T03:26:35.460668",
     "status": "completed"
    },
    "tags": []
   },
   "outputs": [],
   "source": []
  }
 ],
 "metadata": {
  "kaggle": {
   "accelerator": "gpu",
   "dataSources": [
    {
     "datasetId": 2553154,
     "sourceId": 4336269,
     "sourceType": "datasetVersion"
    }
   ],
   "dockerImageVersionId": 31011,
   "isGpuEnabled": true,
   "isInternetEnabled": true,
   "language": "python",
   "sourceType": "notebook"
  },
  "kernelspec": {
   "display_name": "Python 3",
   "language": "python",
   "name": "python3"
  },
  "language_info": {
   "codemirror_mode": {
    "name": "ipython",
    "version": 3
   },
   "file_extension": ".py",
   "mimetype": "text/x-python",
   "name": "python",
   "nbconvert_exporter": "python",
   "pygments_lexer": "ipython3",
   "version": "3.11.11"
  },
  "papermill": {
   "default_parameters": {},
   "duration": 6160.579126,
   "end_time": "2025-04-22T03:26:38.960829",
   "environment_variables": {},
   "exception": null,
   "input_path": "__notebook__.ipynb",
   "output_path": "__notebook__.ipynb",
   "parameters": {},
   "start_time": "2025-04-22T01:43:58.381703",
   "version": "2.6.0"
  }
 },
 "nbformat": 4,
 "nbformat_minor": 5
}
